{
 "cells": [
  {
   "cell_type": "code",
   "execution_count": 1,
   "id": "a4e7f0f7",
   "metadata": {},
   "outputs": [
    {
     "name": "stdout",
     "output_type": "stream",
     "text": [
      "Python 3.10.1\n"
     ]
    }
   ],
   "source": [
    "!python --version"
   ]
  },
  {
   "cell_type": "code",
   "execution_count": 3,
   "id": "ecaaaa90",
   "metadata": {},
   "outputs": [
    {
     "name": "stdout",
     "output_type": "stream",
     "text": [
      "Requirement already satisfied: pandas in c:\\users\\molly\\desktop\\devmountain\\specializations\\week-11\\stats-report\\env\\lib\\site-packages (1.4.0)\n",
      "Requirement already satisfied: python-dateutil>=2.8.1 in c:\\users\\molly\\desktop\\devmountain\\specializations\\week-11\\stats-report\\env\\lib\\site-packages (from pandas) (2.8.2)\n",
      "Requirement already satisfied: numpy>=1.21.0 in c:\\users\\molly\\desktop\\devmountain\\specializations\\week-11\\stats-report\\env\\lib\\site-packages (from pandas) (1.22.1)\n",
      "Requirement already satisfied: pytz>=2020.1 in c:\\users\\molly\\desktop\\devmountain\\specializations\\week-11\\stats-report\\env\\lib\\site-packages (from pandas) (2021.3)\n",
      "Requirement already satisfied: six>=1.5 in c:\\users\\molly\\desktop\\devmountain\\specializations\\week-11\\stats-report\\env\\lib\\site-packages (from python-dateutil>=2.8.1->pandas) (1.16.0)\n"
     ]
    },
    {
     "name": "stderr",
     "output_type": "stream",
     "text": [
      "WARNING: You are using pip version 21.2.4; however, version 21.3.1 is available.\n",
      "You should consider upgrading via the 'C:\\Users\\molly\\Desktop\\devMountain\\specializations\\week-11\\stats-report\\env\\Scripts\\python.exe -m pip install --upgrade pip' command.\n"
     ]
    }
   ],
   "source": [
    "!pip install pandas"
   ]
  },
  {
   "cell_type": "code",
   "execution_count": 4,
   "id": "a6ac1377",
   "metadata": {},
   "outputs": [
    {
     "name": "stdout",
     "output_type": "stream",
     "text": [
      "Collecting matplotlib"
     ]
    },
    {
     "name": "stderr",
     "output_type": "stream",
     "text": [
      "WARNING: You are using pip version 21.2.4; however, version 21.3.1 is available.\n",
      "You should consider upgrading via the 'C:\\Users\\molly\\Desktop\\devMountain\\specializations\\week-11\\stats-report\\env\\Scripts\\python.exe -m pip install --upgrade pip' command.\n"
     ]
    },
    {
     "name": "stdout",
     "output_type": "stream",
     "text": [
      "\n",
      "  Using cached matplotlib-3.5.1-cp310-cp310-win_amd64.whl (7.2 MB)\n",
      "Requirement already satisfied: packaging>=20.0 in c:\\users\\molly\\desktop\\devmountain\\specializations\\week-11\\stats-report\\env\\lib\\site-packages (from matplotlib) (21.3)\n",
      "Collecting kiwisolver>=1.0.1\n",
      "  Using cached kiwisolver-1.3.2-cp310-cp310-win_amd64.whl (52 kB)\n",
      "Requirement already satisfied: pyparsing>=2.2.1 in c:\\users\\molly\\desktop\\devmountain\\specializations\\week-11\\stats-report\\env\\lib\\site-packages (from matplotlib) (3.0.7)\n",
      "Collecting cycler>=0.10\n",
      "  Using cached cycler-0.11.0-py3-none-any.whl (6.4 kB)\n",
      "Requirement already satisfied: numpy>=1.17 in c:\\users\\molly\\desktop\\devmountain\\specializations\\week-11\\stats-report\\env\\lib\\site-packages (from matplotlib) (1.22.1)\n",
      "Collecting pillow>=6.2.0\n",
      "  Using cached Pillow-9.0.0-cp310-cp310-win_amd64.whl (3.2 MB)\n",
      "Requirement already satisfied: python-dateutil>=2.7 in c:\\users\\molly\\desktop\\devmountain\\specializations\\week-11\\stats-report\\env\\lib\\site-packages (from matplotlib) (2.8.2)\n",
      "Collecting fonttools>=4.22.0\n",
      "  Using cached fonttools-4.29.0-py3-none-any.whl (895 kB)\n",
      "Requirement already satisfied: six>=1.5 in c:\\users\\molly\\desktop\\devmountain\\specializations\\week-11\\stats-report\\env\\lib\\site-packages (from python-dateutil>=2.7->matplotlib) (1.16.0)\n",
      "Installing collected packages: pillow, kiwisolver, fonttools, cycler, matplotlib\n",
      "Successfully installed cycler-0.11.0 fonttools-4.29.0 kiwisolver-1.3.2 matplotlib-3.5.1 pillow-9.0.0\n"
     ]
    }
   ],
   "source": [
    "!pip install matplotlib"
   ]
  },
  {
   "cell_type": "code",
   "execution_count": 5,
   "id": "b3297791",
   "metadata": {},
   "outputs": [
    {
     "name": "stdout",
     "output_type": "stream",
     "text": [
      "Collecting seaborn"
     ]
    },
    {
     "name": "stderr",
     "output_type": "stream",
     "text": [
      "WARNING: You are using pip version 21.2.4; however, version 21.3.1 is available.\n",
      "You should consider upgrading via the 'C:\\Users\\molly\\Desktop\\devMountain\\specializations\\week-11\\stats-report\\env\\Scripts\\python.exe -m pip install --upgrade pip' command.\n"
     ]
    },
    {
     "name": "stdout",
     "output_type": "stream",
     "text": [
      "\n",
      "  Downloading seaborn-0.11.2-py3-none-any.whl (292 kB)\n",
      "Requirement already satisfied: matplotlib>=2.2 in c:\\users\\molly\\desktop\\devmountain\\specializations\\week-11\\stats-report\\env\\lib\\site-packages (from seaborn) (3.5.1)\n",
      "Requirement already satisfied: numpy>=1.15 in c:\\users\\molly\\desktop\\devmountain\\specializations\\week-11\\stats-report\\env\\lib\\site-packages (from seaborn) (1.22.1)\n",
      "Requirement already satisfied: pandas>=0.23 in c:\\users\\molly\\desktop\\devmountain\\specializations\\week-11\\stats-report\\env\\lib\\site-packages (from seaborn) (1.4.0)\n",
      "Collecting scipy>=1.0\n",
      "  Downloading scipy-1.7.3-cp310-cp310-win_amd64.whl (34.3 MB)\n",
      "Requirement already satisfied: pyparsing>=2.2.1 in c:\\users\\molly\\desktop\\devmountain\\specializations\\week-11\\stats-report\\env\\lib\\site-packages (from matplotlib>=2.2->seaborn) (3.0.7)\n",
      "Requirement already satisfied: fonttools>=4.22.0 in c:\\users\\molly\\desktop\\devmountain\\specializations\\week-11\\stats-report\\env\\lib\\site-packages (from matplotlib>=2.2->seaborn) (4.29.0)\n",
      "Requirement already satisfied: pillow>=6.2.0 in c:\\users\\molly\\desktop\\devmountain\\specializations\\week-11\\stats-report\\env\\lib\\site-packages (from matplotlib>=2.2->seaborn) (9.0.0)\n",
      "Requirement already satisfied: python-dateutil>=2.7 in c:\\users\\molly\\desktop\\devmountain\\specializations\\week-11\\stats-report\\env\\lib\\site-packages (from matplotlib>=2.2->seaborn) (2.8.2)\n",
      "Requirement already satisfied: kiwisolver>=1.0.1 in c:\\users\\molly\\desktop\\devmountain\\specializations\\week-11\\stats-report\\env\\lib\\site-packages (from matplotlib>=2.2->seaborn) (1.3.2)\n",
      "Requirement already satisfied: cycler>=0.10 in c:\\users\\molly\\desktop\\devmountain\\specializations\\week-11\\stats-report\\env\\lib\\site-packages (from matplotlib>=2.2->seaborn) (0.11.0)\n",
      "Requirement already satisfied: packaging>=20.0 in c:\\users\\molly\\desktop\\devmountain\\specializations\\week-11\\stats-report\\env\\lib\\site-packages (from matplotlib>=2.2->seaborn) (21.3)\n",
      "Requirement already satisfied: pytz>=2020.1 in c:\\users\\molly\\desktop\\devmountain\\specializations\\week-11\\stats-report\\env\\lib\\site-packages (from pandas>=0.23->seaborn) (2021.3)\n",
      "Requirement already satisfied: six>=1.5 in c:\\users\\molly\\desktop\\devmountain\\specializations\\week-11\\stats-report\\env\\lib\\site-packages (from python-dateutil>=2.7->matplotlib>=2.2->seaborn) (1.16.0)\n",
      "Installing collected packages: scipy, seaborn\n",
      "Successfully installed scipy-1.7.3 seaborn-0.11.2\n"
     ]
    }
   ],
   "source": [
    "!pip install seaborn"
   ]
  },
  {
   "cell_type": "code",
   "execution_count": 6,
   "id": "c84b1b85",
   "metadata": {},
   "outputs": [
    {
     "data": {
      "text/plain": [
       "'1.4.0'"
      ]
     },
     "execution_count": 6,
     "metadata": {},
     "output_type": "execute_result"
    }
   ],
   "source": [
    "import pandas as pd\n",
    "pd.__version__"
   ]
  },
  {
   "cell_type": "code",
   "execution_count": 7,
   "id": "cde2198c",
   "metadata": {},
   "outputs": [
    {
     "data": {
      "text/plain": [
       "'3.5.1'"
      ]
     },
     "execution_count": 7,
     "metadata": {},
     "output_type": "execute_result"
    }
   ],
   "source": [
    "import matplotlib\n",
    "matplotlib.__version__"
   ]
  },
  {
   "cell_type": "code",
   "execution_count": 8,
   "id": "41949c21",
   "metadata": {},
   "outputs": [
    {
     "data": {
      "text/plain": [
       "'1.22.1'"
      ]
     },
     "execution_count": 8,
     "metadata": {},
     "output_type": "execute_result"
    }
   ],
   "source": [
    "import numpy as np\n",
    "np.__version__"
   ]
  },
  {
   "cell_type": "code",
   "execution_count": 84,
   "id": "0d8e064d",
   "metadata": {},
   "outputs": [
    {
     "data": {
      "text/plain": [
       "'0.11.2'"
      ]
     },
     "execution_count": 84,
     "metadata": {},
     "output_type": "execute_result"
    }
   ],
   "source": [
    "import seaborn as sns\n",
    "seaborn.__version__"
   ]
  },
  {
   "cell_type": "code",
   "execution_count": 60,
   "id": "368ac07e",
   "metadata": {},
   "outputs": [],
   "source": [
    "import matplotlib.pyplot as plt"
   ]
  },
  {
   "cell_type": "markdown",
   "id": "6e9265d4",
   "metadata": {},
   "source": [
    "### Reading data using pandas python"
   ]
  },
  {
   "cell_type": "code",
   "execution_count": 15,
   "id": "a1bba79a",
   "metadata": {},
   "outputs": [
    {
     "data": {
      "text/html": [
       "<div>\n",
       "<style scoped>\n",
       "    .dataframe tbody tr th:only-of-type {\n",
       "        vertical-align: middle;\n",
       "    }\n",
       "\n",
       "    .dataframe tbody tr th {\n",
       "        vertical-align: top;\n",
       "    }\n",
       "\n",
       "    .dataframe thead th {\n",
       "        text-align: right;\n",
       "    }\n",
       "</style>\n",
       "<table border=\"1\" class=\"dataframe\">\n",
       "  <thead>\n",
       "    <tr style=\"text-align: right;\">\n",
       "      <th></th>\n",
       "      <th>long</th>\n",
       "      <th>lat</th>\n",
       "      <th>unique_squirrel_id</th>\n",
       "      <th>hectare</th>\n",
       "      <th>shift</th>\n",
       "      <th>date</th>\n",
       "      <th>hectare_squirrel_number</th>\n",
       "      <th>age</th>\n",
       "      <th>primary_fur_color</th>\n",
       "      <th>highlight_fur_color</th>\n",
       "      <th>...</th>\n",
       "      <th>approaches</th>\n",
       "      <th>indifferent</th>\n",
       "      <th>runs_from</th>\n",
       "      <th>other_interactions</th>\n",
       "      <th>lat_long</th>\n",
       "      <th>zip_codes</th>\n",
       "      <th>community_districts</th>\n",
       "      <th>borough_boundaries</th>\n",
       "      <th>city_council_districts</th>\n",
       "      <th>police_precincts</th>\n",
       "    </tr>\n",
       "  </thead>\n",
       "  <tbody>\n",
       "    <tr>\n",
       "      <th>0</th>\n",
       "      <td>-73.956134</td>\n",
       "      <td>40.794082</td>\n",
       "      <td>37F-PM-1014-03</td>\n",
       "      <td>37F</td>\n",
       "      <td>PM</td>\n",
       "      <td>10142018</td>\n",
       "      <td>3</td>\n",
       "      <td>NaN</td>\n",
       "      <td>NaN</td>\n",
       "      <td>NaN</td>\n",
       "      <td>...</td>\n",
       "      <td>False</td>\n",
       "      <td>False</td>\n",
       "      <td>False</td>\n",
       "      <td>NaN</td>\n",
       "      <td>POINT (-73.9561344937861 40.7940823884086)</td>\n",
       "      <td>NaN</td>\n",
       "      <td>19</td>\n",
       "      <td>4</td>\n",
       "      <td>19</td>\n",
       "      <td>13</td>\n",
       "    </tr>\n",
       "    <tr>\n",
       "      <th>1</th>\n",
       "      <td>-73.957044</td>\n",
       "      <td>40.794851</td>\n",
       "      <td>37E-PM-1006-03</td>\n",
       "      <td>37E</td>\n",
       "      <td>PM</td>\n",
       "      <td>10062018</td>\n",
       "      <td>3</td>\n",
       "      <td>Adult</td>\n",
       "      <td>Gray</td>\n",
       "      <td>Cinnamon</td>\n",
       "      <td>...</td>\n",
       "      <td>False</td>\n",
       "      <td>False</td>\n",
       "      <td>True</td>\n",
       "      <td>me</td>\n",
       "      <td>POINT (-73.9570437717691 40.794850940803904)</td>\n",
       "      <td>NaN</td>\n",
       "      <td>19</td>\n",
       "      <td>4</td>\n",
       "      <td>19</td>\n",
       "      <td>13</td>\n",
       "    </tr>\n",
       "    <tr>\n",
       "      <th>2</th>\n",
       "      <td>-73.976831</td>\n",
       "      <td>40.766718</td>\n",
       "      <td>2E-AM-1010-03</td>\n",
       "      <td>02E</td>\n",
       "      <td>AM</td>\n",
       "      <td>10102018</td>\n",
       "      <td>3</td>\n",
       "      <td>Adult</td>\n",
       "      <td>Cinnamon</td>\n",
       "      <td>NaN</td>\n",
       "      <td>...</td>\n",
       "      <td>False</td>\n",
       "      <td>True</td>\n",
       "      <td>False</td>\n",
       "      <td>NaN</td>\n",
       "      <td>POINT (-73.9768311751004 40.76671780725581)</td>\n",
       "      <td>NaN</td>\n",
       "      <td>19</td>\n",
       "      <td>4</td>\n",
       "      <td>19</td>\n",
       "      <td>13</td>\n",
       "    </tr>\n",
       "    <tr>\n",
       "      <th>3</th>\n",
       "      <td>-73.975725</td>\n",
       "      <td>40.769703</td>\n",
       "      <td>5D-PM-1018-05</td>\n",
       "      <td>05D</td>\n",
       "      <td>PM</td>\n",
       "      <td>10182018</td>\n",
       "      <td>5</td>\n",
       "      <td>Juvenile</td>\n",
       "      <td>Gray</td>\n",
       "      <td>NaN</td>\n",
       "      <td>...</td>\n",
       "      <td>False</td>\n",
       "      <td>False</td>\n",
       "      <td>True</td>\n",
       "      <td>NaN</td>\n",
       "      <td>POINT (-73.9757249834141 40.7697032606755)</td>\n",
       "      <td>NaN</td>\n",
       "      <td>19</td>\n",
       "      <td>4</td>\n",
       "      <td>19</td>\n",
       "      <td>13</td>\n",
       "    </tr>\n",
       "    <tr>\n",
       "      <th>4</th>\n",
       "      <td>-73.959313</td>\n",
       "      <td>40.797533</td>\n",
       "      <td>39B-AM-1018-01</td>\n",
       "      <td>39B</td>\n",
       "      <td>AM</td>\n",
       "      <td>10182018</td>\n",
       "      <td>1</td>\n",
       "      <td>NaN</td>\n",
       "      <td>NaN</td>\n",
       "      <td>NaN</td>\n",
       "      <td>...</td>\n",
       "      <td>False</td>\n",
       "      <td>False</td>\n",
       "      <td>False</td>\n",
       "      <td>NaN</td>\n",
       "      <td>POINT (-73.9593126695714 40.797533370163)</td>\n",
       "      <td>NaN</td>\n",
       "      <td>19</td>\n",
       "      <td>4</td>\n",
       "      <td>19</td>\n",
       "      <td>13</td>\n",
       "    </tr>\n",
       "    <tr>\n",
       "      <th>...</th>\n",
       "      <td>...</td>\n",
       "      <td>...</td>\n",
       "      <td>...</td>\n",
       "      <td>...</td>\n",
       "      <td>...</td>\n",
       "      <td>...</td>\n",
       "      <td>...</td>\n",
       "      <td>...</td>\n",
       "      <td>...</td>\n",
       "      <td>...</td>\n",
       "      <td>...</td>\n",
       "      <td>...</td>\n",
       "      <td>...</td>\n",
       "      <td>...</td>\n",
       "      <td>...</td>\n",
       "      <td>...</td>\n",
       "      <td>...</td>\n",
       "      <td>...</td>\n",
       "      <td>...</td>\n",
       "      <td>...</td>\n",
       "      <td>...</td>\n",
       "    </tr>\n",
       "    <tr>\n",
       "      <th>3018</th>\n",
       "      <td>-73.963943</td>\n",
       "      <td>40.790868</td>\n",
       "      <td>30B-AM-1007-04</td>\n",
       "      <td>30B</td>\n",
       "      <td>AM</td>\n",
       "      <td>10072018</td>\n",
       "      <td>4</td>\n",
       "      <td>Adult</td>\n",
       "      <td>Gray</td>\n",
       "      <td>NaN</td>\n",
       "      <td>...</td>\n",
       "      <td>False</td>\n",
       "      <td>False</td>\n",
       "      <td>True</td>\n",
       "      <td>NaN</td>\n",
       "      <td>POINT (-73.9639431360458 40.7908677445466)</td>\n",
       "      <td>NaN</td>\n",
       "      <td>19</td>\n",
       "      <td>4</td>\n",
       "      <td>19</td>\n",
       "      <td>13</td>\n",
       "    </tr>\n",
       "    <tr>\n",
       "      <th>3019</th>\n",
       "      <td>-73.970402</td>\n",
       "      <td>40.782560</td>\n",
       "      <td>19A-PM-1013-05</td>\n",
       "      <td>19A</td>\n",
       "      <td>PM</td>\n",
       "      <td>10132018</td>\n",
       "      <td>5</td>\n",
       "      <td>Adult</td>\n",
       "      <td>Gray</td>\n",
       "      <td>White</td>\n",
       "      <td>...</td>\n",
       "      <td>False</td>\n",
       "      <td>True</td>\n",
       "      <td>False</td>\n",
       "      <td>NaN</td>\n",
       "      <td>POINT (-73.9704015859639 40.7825600069973)</td>\n",
       "      <td>NaN</td>\n",
       "      <td>19</td>\n",
       "      <td>4</td>\n",
       "      <td>19</td>\n",
       "      <td>13</td>\n",
       "    </tr>\n",
       "    <tr>\n",
       "      <th>3020</th>\n",
       "      <td>-73.966587</td>\n",
       "      <td>40.783678</td>\n",
       "      <td>22D-PM-1012-07</td>\n",
       "      <td>22D</td>\n",
       "      <td>PM</td>\n",
       "      <td>10122018</td>\n",
       "      <td>7</td>\n",
       "      <td>Adult</td>\n",
       "      <td>Gray</td>\n",
       "      <td>Black, Cinnamon, White</td>\n",
       "      <td>...</td>\n",
       "      <td>False</td>\n",
       "      <td>True</td>\n",
       "      <td>False</td>\n",
       "      <td>NaN</td>\n",
       "      <td>POINT (-73.9665871993517 40.7836775064883)</td>\n",
       "      <td>NaN</td>\n",
       "      <td>19</td>\n",
       "      <td>4</td>\n",
       "      <td>19</td>\n",
       "      <td>13</td>\n",
       "    </tr>\n",
       "    <tr>\n",
       "      <th>3021</th>\n",
       "      <td>-73.963994</td>\n",
       "      <td>40.789915</td>\n",
       "      <td>29B-PM-1010-02</td>\n",
       "      <td>29B</td>\n",
       "      <td>PM</td>\n",
       "      <td>10102018</td>\n",
       "      <td>2</td>\n",
       "      <td>NaN</td>\n",
       "      <td>Gray</td>\n",
       "      <td>Cinnamon, White</td>\n",
       "      <td>...</td>\n",
       "      <td>False</td>\n",
       "      <td>True</td>\n",
       "      <td>False</td>\n",
       "      <td>NaN</td>\n",
       "      <td>POINT (-73.9639941227864 40.7899152327912)</td>\n",
       "      <td>NaN</td>\n",
       "      <td>19</td>\n",
       "      <td>4</td>\n",
       "      <td>19</td>\n",
       "      <td>13</td>\n",
       "    </tr>\n",
       "    <tr>\n",
       "      <th>3022</th>\n",
       "      <td>-73.975479</td>\n",
       "      <td>40.769640</td>\n",
       "      <td>5E-PM-1012-01</td>\n",
       "      <td>05E</td>\n",
       "      <td>PM</td>\n",
       "      <td>10122018</td>\n",
       "      <td>1</td>\n",
       "      <td>Adult</td>\n",
       "      <td>Cinnamon</td>\n",
       "      <td>Gray, White</td>\n",
       "      <td>...</td>\n",
       "      <td>True</td>\n",
       "      <td>False</td>\n",
       "      <td>False</td>\n",
       "      <td>NaN</td>\n",
       "      <td>POINT (-73.9754794191553 40.7696404489025)</td>\n",
       "      <td>NaN</td>\n",
       "      <td>19</td>\n",
       "      <td>4</td>\n",
       "      <td>19</td>\n",
       "      <td>13</td>\n",
       "    </tr>\n",
       "  </tbody>\n",
       "</table>\n",
       "<p>3023 rows × 36 columns</p>\n",
       "</div>"
      ],
      "text/plain": [
       "           long        lat unique_squirrel_id hectare shift      date  \\\n",
       "0    -73.956134  40.794082     37F-PM-1014-03     37F    PM  10142018   \n",
       "1    -73.957044  40.794851     37E-PM-1006-03     37E    PM  10062018   \n",
       "2    -73.976831  40.766718      2E-AM-1010-03     02E    AM  10102018   \n",
       "3    -73.975725  40.769703      5D-PM-1018-05     05D    PM  10182018   \n",
       "4    -73.959313  40.797533     39B-AM-1018-01     39B    AM  10182018   \n",
       "...         ...        ...                ...     ...   ...       ...   \n",
       "3018 -73.963943  40.790868     30B-AM-1007-04     30B    AM  10072018   \n",
       "3019 -73.970402  40.782560     19A-PM-1013-05     19A    PM  10132018   \n",
       "3020 -73.966587  40.783678     22D-PM-1012-07     22D    PM  10122018   \n",
       "3021 -73.963994  40.789915     29B-PM-1010-02     29B    PM  10102018   \n",
       "3022 -73.975479  40.769640      5E-PM-1012-01     05E    PM  10122018   \n",
       "\n",
       "      hectare_squirrel_number       age primary_fur_color  \\\n",
       "0                           3       NaN               NaN   \n",
       "1                           3     Adult              Gray   \n",
       "2                           3     Adult          Cinnamon   \n",
       "3                           5  Juvenile              Gray   \n",
       "4                           1       NaN               NaN   \n",
       "...                       ...       ...               ...   \n",
       "3018                        4     Adult              Gray   \n",
       "3019                        5     Adult              Gray   \n",
       "3020                        7     Adult              Gray   \n",
       "3021                        2       NaN              Gray   \n",
       "3022                        1     Adult          Cinnamon   \n",
       "\n",
       "         highlight_fur_color  ... approaches indifferent runs_from  \\\n",
       "0                        NaN  ...      False       False     False   \n",
       "1                   Cinnamon  ...      False       False      True   \n",
       "2                        NaN  ...      False        True     False   \n",
       "3                        NaN  ...      False       False      True   \n",
       "4                        NaN  ...      False       False     False   \n",
       "...                      ...  ...        ...         ...       ...   \n",
       "3018                     NaN  ...      False       False      True   \n",
       "3019                   White  ...      False        True     False   \n",
       "3020  Black, Cinnamon, White  ...      False        True     False   \n",
       "3021         Cinnamon, White  ...      False        True     False   \n",
       "3022             Gray, White  ...       True       False     False   \n",
       "\n",
       "     other_interactions                                      lat_long  \\\n",
       "0                   NaN    POINT (-73.9561344937861 40.7940823884086)   \n",
       "1                    me  POINT (-73.9570437717691 40.794850940803904)   \n",
       "2                   NaN   POINT (-73.9768311751004 40.76671780725581)   \n",
       "3                   NaN    POINT (-73.9757249834141 40.7697032606755)   \n",
       "4                   NaN     POINT (-73.9593126695714 40.797533370163)   \n",
       "...                 ...                                           ...   \n",
       "3018                NaN    POINT (-73.9639431360458 40.7908677445466)   \n",
       "3019                NaN    POINT (-73.9704015859639 40.7825600069973)   \n",
       "3020                NaN    POINT (-73.9665871993517 40.7836775064883)   \n",
       "3021                NaN    POINT (-73.9639941227864 40.7899152327912)   \n",
       "3022                NaN    POINT (-73.9754794191553 40.7696404489025)   \n",
       "\n",
       "      zip_codes  community_districts  borough_boundaries  \\\n",
       "0           NaN                   19                   4   \n",
       "1           NaN                   19                   4   \n",
       "2           NaN                   19                   4   \n",
       "3           NaN                   19                   4   \n",
       "4           NaN                   19                   4   \n",
       "...         ...                  ...                 ...   \n",
       "3018        NaN                   19                   4   \n",
       "3019        NaN                   19                   4   \n",
       "3020        NaN                   19                   4   \n",
       "3021        NaN                   19                   4   \n",
       "3022        NaN                   19                   4   \n",
       "\n",
       "      city_council_districts  police_precincts  \n",
       "0                         19                13  \n",
       "1                         19                13  \n",
       "2                         19                13  \n",
       "3                         19                13  \n",
       "4                         19                13  \n",
       "...                      ...               ...  \n",
       "3018                      19                13  \n",
       "3019                      19                13  \n",
       "3020                      19                13  \n",
       "3021                      19                13  \n",
       "3022                      19                13  \n",
       "\n",
       "[3023 rows x 36 columns]"
      ]
     },
     "execution_count": 15,
     "metadata": {},
     "output_type": "execute_result"
    }
   ],
   "source": [
    "nyc_squirrels = pd.read_csv(\"https://raw.githubusercontent.com/rfordatascience/tidytuesday/master/data/2019/2019-10-29/nyc_squirrels.csv\")\n",
    "nyc_squirrels"
   ]
  },
  {
   "cell_type": "code",
   "execution_count": 17,
   "id": "15290ce2",
   "metadata": {
    "scrolled": true
   },
   "outputs": [
    {
     "data": {
      "text/html": [
       "<div>\n",
       "<style scoped>\n",
       "    .dataframe tbody tr th:only-of-type {\n",
       "        vertical-align: middle;\n",
       "    }\n",
       "\n",
       "    .dataframe tbody tr th {\n",
       "        vertical-align: top;\n",
       "    }\n",
       "\n",
       "    .dataframe thead th {\n",
       "        text-align: right;\n",
       "    }\n",
       "</style>\n",
       "<table border=\"1\" class=\"dataframe\">\n",
       "  <thead>\n",
       "    <tr style=\"text-align: right;\">\n",
       "      <th></th>\n",
       "      <th>long</th>\n",
       "      <th>lat</th>\n",
       "      <th>unique_squirrel_id</th>\n",
       "      <th>hectare</th>\n",
       "      <th>shift</th>\n",
       "      <th>date</th>\n",
       "      <th>hectare_squirrel_number</th>\n",
       "      <th>age</th>\n",
       "      <th>primary_fur_color</th>\n",
       "      <th>highlight_fur_color</th>\n",
       "      <th>...</th>\n",
       "      <th>approaches</th>\n",
       "      <th>indifferent</th>\n",
       "      <th>runs_from</th>\n",
       "      <th>other_interactions</th>\n",
       "      <th>lat_long</th>\n",
       "      <th>zip_codes</th>\n",
       "      <th>community_districts</th>\n",
       "      <th>borough_boundaries</th>\n",
       "      <th>city_council_districts</th>\n",
       "      <th>police_precincts</th>\n",
       "    </tr>\n",
       "  </thead>\n",
       "  <tbody>\n",
       "    <tr>\n",
       "      <th>0</th>\n",
       "      <td>-73.956134</td>\n",
       "      <td>40.794082</td>\n",
       "      <td>37F-PM-1014-03</td>\n",
       "      <td>37F</td>\n",
       "      <td>PM</td>\n",
       "      <td>10142018</td>\n",
       "      <td>3</td>\n",
       "      <td>NaN</td>\n",
       "      <td>NaN</td>\n",
       "      <td>NaN</td>\n",
       "      <td>...</td>\n",
       "      <td>False</td>\n",
       "      <td>False</td>\n",
       "      <td>False</td>\n",
       "      <td>NaN</td>\n",
       "      <td>POINT (-73.9561344937861 40.7940823884086)</td>\n",
       "      <td>NaN</td>\n",
       "      <td>19</td>\n",
       "      <td>4</td>\n",
       "      <td>19</td>\n",
       "      <td>13</td>\n",
       "    </tr>\n",
       "    <tr>\n",
       "      <th>1</th>\n",
       "      <td>-73.957044</td>\n",
       "      <td>40.794851</td>\n",
       "      <td>37E-PM-1006-03</td>\n",
       "      <td>37E</td>\n",
       "      <td>PM</td>\n",
       "      <td>10062018</td>\n",
       "      <td>3</td>\n",
       "      <td>Adult</td>\n",
       "      <td>Gray</td>\n",
       "      <td>Cinnamon</td>\n",
       "      <td>...</td>\n",
       "      <td>False</td>\n",
       "      <td>False</td>\n",
       "      <td>True</td>\n",
       "      <td>me</td>\n",
       "      <td>POINT (-73.9570437717691 40.794850940803904)</td>\n",
       "      <td>NaN</td>\n",
       "      <td>19</td>\n",
       "      <td>4</td>\n",
       "      <td>19</td>\n",
       "      <td>13</td>\n",
       "    </tr>\n",
       "    <tr>\n",
       "      <th>2</th>\n",
       "      <td>-73.976831</td>\n",
       "      <td>40.766718</td>\n",
       "      <td>2E-AM-1010-03</td>\n",
       "      <td>02E</td>\n",
       "      <td>AM</td>\n",
       "      <td>10102018</td>\n",
       "      <td>3</td>\n",
       "      <td>Adult</td>\n",
       "      <td>Cinnamon</td>\n",
       "      <td>NaN</td>\n",
       "      <td>...</td>\n",
       "      <td>False</td>\n",
       "      <td>True</td>\n",
       "      <td>False</td>\n",
       "      <td>NaN</td>\n",
       "      <td>POINT (-73.9768311751004 40.76671780725581)</td>\n",
       "      <td>NaN</td>\n",
       "      <td>19</td>\n",
       "      <td>4</td>\n",
       "      <td>19</td>\n",
       "      <td>13</td>\n",
       "    </tr>\n",
       "    <tr>\n",
       "      <th>3</th>\n",
       "      <td>-73.975725</td>\n",
       "      <td>40.769703</td>\n",
       "      <td>5D-PM-1018-05</td>\n",
       "      <td>05D</td>\n",
       "      <td>PM</td>\n",
       "      <td>10182018</td>\n",
       "      <td>5</td>\n",
       "      <td>Juvenile</td>\n",
       "      <td>Gray</td>\n",
       "      <td>NaN</td>\n",
       "      <td>...</td>\n",
       "      <td>False</td>\n",
       "      <td>False</td>\n",
       "      <td>True</td>\n",
       "      <td>NaN</td>\n",
       "      <td>POINT (-73.9757249834141 40.7697032606755)</td>\n",
       "      <td>NaN</td>\n",
       "      <td>19</td>\n",
       "      <td>4</td>\n",
       "      <td>19</td>\n",
       "      <td>13</td>\n",
       "    </tr>\n",
       "    <tr>\n",
       "      <th>4</th>\n",
       "      <td>-73.959313</td>\n",
       "      <td>40.797533</td>\n",
       "      <td>39B-AM-1018-01</td>\n",
       "      <td>39B</td>\n",
       "      <td>AM</td>\n",
       "      <td>10182018</td>\n",
       "      <td>1</td>\n",
       "      <td>NaN</td>\n",
       "      <td>NaN</td>\n",
       "      <td>NaN</td>\n",
       "      <td>...</td>\n",
       "      <td>False</td>\n",
       "      <td>False</td>\n",
       "      <td>False</td>\n",
       "      <td>NaN</td>\n",
       "      <td>POINT (-73.9593126695714 40.797533370163)</td>\n",
       "      <td>NaN</td>\n",
       "      <td>19</td>\n",
       "      <td>4</td>\n",
       "      <td>19</td>\n",
       "      <td>13</td>\n",
       "    </tr>\n",
       "  </tbody>\n",
       "</table>\n",
       "<p>5 rows × 36 columns</p>\n",
       "</div>"
      ],
      "text/plain": [
       "        long        lat unique_squirrel_id hectare shift      date  \\\n",
       "0 -73.956134  40.794082     37F-PM-1014-03     37F    PM  10142018   \n",
       "1 -73.957044  40.794851     37E-PM-1006-03     37E    PM  10062018   \n",
       "2 -73.976831  40.766718      2E-AM-1010-03     02E    AM  10102018   \n",
       "3 -73.975725  40.769703      5D-PM-1018-05     05D    PM  10182018   \n",
       "4 -73.959313  40.797533     39B-AM-1018-01     39B    AM  10182018   \n",
       "\n",
       "   hectare_squirrel_number       age primary_fur_color highlight_fur_color  \\\n",
       "0                        3       NaN               NaN                 NaN   \n",
       "1                        3     Adult              Gray            Cinnamon   \n",
       "2                        3     Adult          Cinnamon                 NaN   \n",
       "3                        5  Juvenile              Gray                 NaN   \n",
       "4                        1       NaN               NaN                 NaN   \n",
       "\n",
       "   ... approaches indifferent runs_from other_interactions  \\\n",
       "0  ...      False       False     False                NaN   \n",
       "1  ...      False       False      True                 me   \n",
       "2  ...      False        True     False                NaN   \n",
       "3  ...      False       False      True                NaN   \n",
       "4  ...      False       False     False                NaN   \n",
       "\n",
       "                                       lat_long  zip_codes  \\\n",
       "0    POINT (-73.9561344937861 40.7940823884086)        NaN   \n",
       "1  POINT (-73.9570437717691 40.794850940803904)        NaN   \n",
       "2   POINT (-73.9768311751004 40.76671780725581)        NaN   \n",
       "3    POINT (-73.9757249834141 40.7697032606755)        NaN   \n",
       "4     POINT (-73.9593126695714 40.797533370163)        NaN   \n",
       "\n",
       "   community_districts  borough_boundaries  city_council_districts  \\\n",
       "0                   19                   4                      19   \n",
       "1                   19                   4                      19   \n",
       "2                   19                   4                      19   \n",
       "3                   19                   4                      19   \n",
       "4                   19                   4                      19   \n",
       "\n",
       "   police_precincts  \n",
       "0                13  \n",
       "1                13  \n",
       "2                13  \n",
       "3                13  \n",
       "4                13  \n",
       "\n",
       "[5 rows x 36 columns]"
      ]
     },
     "execution_count": 17,
     "metadata": {},
     "output_type": "execute_result"
    }
   ],
   "source": [
    "nyc_squirrels.head(5)"
   ]
  },
  {
   "cell_type": "code",
   "execution_count": 19,
   "id": "5220bc2a",
   "metadata": {},
   "outputs": [
    {
     "data": {
      "text/plain": [
       "(3023, 36)"
      ]
     },
     "execution_count": 19,
     "metadata": {},
     "output_type": "execute_result"
    }
   ],
   "source": [
    "nyc_squirrels.shape"
   ]
  },
  {
   "cell_type": "code",
   "execution_count": 20,
   "id": "3b835292",
   "metadata": {},
   "outputs": [
    {
     "data": {
      "text/plain": [
       "Index(['long', 'lat', 'unique_squirrel_id', 'hectare', 'shift', 'date',\n",
       "       'hectare_squirrel_number', 'age', 'primary_fur_color',\n",
       "       'highlight_fur_color', 'combination_of_primary_and_highlight_color',\n",
       "       'color_notes', 'location', 'above_ground_sighter_measurement',\n",
       "       'specific_location', 'running', 'chasing', 'climbing', 'eating',\n",
       "       'foraging', 'other_activities', 'kuks', 'quaas', 'moans', 'tail_flags',\n",
       "       'tail_twitches', 'approaches', 'indifferent', 'runs_from',\n",
       "       'other_interactions', 'lat_long', 'zip_codes', 'community_districts',\n",
       "       'borough_boundaries', 'city_council_districts', 'police_precincts'],\n",
       "      dtype='object')"
      ]
     },
     "execution_count": 20,
     "metadata": {},
     "output_type": "execute_result"
    }
   ],
   "source": [
    "nyc_squirrels.columns"
   ]
  },
  {
   "cell_type": "code",
   "execution_count": 34,
   "id": "4e04837d",
   "metadata": {},
   "outputs": [
    {
     "data": {
      "text/plain": [
       "long                                             0\n",
       "lat                                              0\n",
       "unique_squirrel_id                               0\n",
       "hectare                                          0\n",
       "shift                                            0\n",
       "date                                             0\n",
       "hectare_squirrel_number                          0\n",
       "age                                            121\n",
       "primary_fur_color                               55\n",
       "highlight_fur_color                           1086\n",
       "combination_of_primary_and_highlight_color       0\n",
       "color_notes                                   2841\n",
       "location                                        64\n",
       "above_ground_sighter_measurement               114\n",
       "specific_location                             2547\n",
       "running                                          0\n",
       "chasing                                          0\n",
       "climbing                                         0\n",
       "eating                                           0\n",
       "foraging                                         0\n",
       "other_activities                              2586\n",
       "kuks                                             0\n",
       "quaas                                            0\n",
       "moans                                            0\n",
       "tail_flags                                       0\n",
       "tail_twitches                                    0\n",
       "approaches                                       0\n",
       "indifferent                                      0\n",
       "runs_from                                        0\n",
       "other_interactions                            2783\n",
       "lat_long                                         0\n",
       "zip_codes                                     3014\n",
       "community_districts                              0\n",
       "borough_boundaries                               0\n",
       "city_council_districts                           0\n",
       "police_precincts                                 0\n",
       "dtype: int64"
      ]
     },
     "execution_count": 34,
     "metadata": {},
     "output_type": "execute_result"
    }
   ],
   "source": [
    "nyc_squirrels.isnull().sum()"
   ]
  },
  {
   "cell_type": "code",
   "execution_count": 32,
   "id": "e470c28a",
   "metadata": {},
   "outputs": [
    {
     "data": {
      "text/plain": [
       "0"
      ]
     },
     "execution_count": 32,
     "metadata": {},
     "output_type": "execute_result"
    }
   ],
   "source": [
    "nyc_squirrels['hectare_squirrel_number'].isnull().sum()"
   ]
  },
  {
   "cell_type": "code",
   "execution_count": 42,
   "id": "821e38dc",
   "metadata": {},
   "outputs": [
    {
     "data": {
      "text/plain": [
       "0"
      ]
     },
     "execution_count": 42,
     "metadata": {},
     "output_type": "execute_result"
    }
   ],
   "source": [
    "nyc_squirrels['community_districts'].isnull().sum()"
   ]
  },
  {
   "cell_type": "code",
   "execution_count": 43,
   "id": "e2f07149",
   "metadata": {},
   "outputs": [
    {
     "data": {
      "text/html": [
       "<div>\n",
       "<style scoped>\n",
       "    .dataframe tbody tr th:only-of-type {\n",
       "        vertical-align: middle;\n",
       "    }\n",
       "\n",
       "    .dataframe tbody tr th {\n",
       "        vertical-align: top;\n",
       "    }\n",
       "\n",
       "    .dataframe thead th {\n",
       "        text-align: right;\n",
       "    }\n",
       "</style>\n",
       "<table border=\"1\" class=\"dataframe\">\n",
       "  <thead>\n",
       "    <tr style=\"text-align: right;\">\n",
       "      <th></th>\n",
       "      <th>hectare_squirrel_number</th>\n",
       "      <th>community_districts</th>\n",
       "    </tr>\n",
       "  </thead>\n",
       "  <tbody>\n",
       "    <tr>\n",
       "      <th>0</th>\n",
       "      <td>3</td>\n",
       "      <td>19</td>\n",
       "    </tr>\n",
       "    <tr>\n",
       "      <th>1</th>\n",
       "      <td>3</td>\n",
       "      <td>19</td>\n",
       "    </tr>\n",
       "    <tr>\n",
       "      <th>2</th>\n",
       "      <td>3</td>\n",
       "      <td>19</td>\n",
       "    </tr>\n",
       "    <tr>\n",
       "      <th>3</th>\n",
       "      <td>5</td>\n",
       "      <td>19</td>\n",
       "    </tr>\n",
       "    <tr>\n",
       "      <th>4</th>\n",
       "      <td>1</td>\n",
       "      <td>19</td>\n",
       "    </tr>\n",
       "    <tr>\n",
       "      <th>...</th>\n",
       "      <td>...</td>\n",
       "      <td>...</td>\n",
       "    </tr>\n",
       "    <tr>\n",
       "      <th>3018</th>\n",
       "      <td>4</td>\n",
       "      <td>19</td>\n",
       "    </tr>\n",
       "    <tr>\n",
       "      <th>3019</th>\n",
       "      <td>5</td>\n",
       "      <td>19</td>\n",
       "    </tr>\n",
       "    <tr>\n",
       "      <th>3020</th>\n",
       "      <td>7</td>\n",
       "      <td>19</td>\n",
       "    </tr>\n",
       "    <tr>\n",
       "      <th>3021</th>\n",
       "      <td>2</td>\n",
       "      <td>19</td>\n",
       "    </tr>\n",
       "    <tr>\n",
       "      <th>3022</th>\n",
       "      <td>1</td>\n",
       "      <td>19</td>\n",
       "    </tr>\n",
       "  </tbody>\n",
       "</table>\n",
       "<p>3023 rows × 2 columns</p>\n",
       "</div>"
      ],
      "text/plain": [
       "      hectare_squirrel_number  community_districts\n",
       "0                           3                   19\n",
       "1                           3                   19\n",
       "2                           3                   19\n",
       "3                           5                   19\n",
       "4                           1                   19\n",
       "...                       ...                  ...\n",
       "3018                        4                   19\n",
       "3019                        5                   19\n",
       "3020                        7                   19\n",
       "3021                        2                   19\n",
       "3022                        1                   19\n",
       "\n",
       "[3023 rows x 2 columns]"
      ]
     },
     "execution_count": 43,
     "metadata": {},
     "output_type": "execute_result"
    }
   ],
   "source": [
    "nyc_squirrels = nyc_squirrels.drop(['long', 'lat', 'unique_squirrel_id', 'hectare', 'shift', 'date',\n",
    "        'age', 'primary_fur_color',\n",
    "       'highlight_fur_color', 'combination_of_primary_and_highlight_color',\n",
    "       'color_notes', 'location', 'above_ground_sighter_measurement',\n",
    "       'specific_location', 'running', 'chasing', 'climbing', 'eating',\n",
    "       'foraging', 'other_activities', 'kuks', 'quaas', 'moans', 'tail_flags',\n",
    "       'tail_twitches', 'approaches', 'indifferent', 'runs_from',\n",
    "       'other_interactions', 'lat_long', 'zip_codes', \n",
    "       'borough_boundaries', 'city_council_districts', 'police_precincts'], axis=1)\n",
    "nyc_squirrels"
   ]
  },
  {
   "cell_type": "markdown",
   "id": "324eaa14",
   "metadata": {},
   "source": [
    "### Mean of the data"
   ]
  },
  {
   "cell_type": "code",
   "execution_count": 46,
   "id": "15a58edf",
   "metadata": {},
   "outputs": [
    {
     "data": {
      "text/plain": [
       "4.123718160767449"
      ]
     },
     "execution_count": 46,
     "metadata": {},
     "output_type": "execute_result"
    }
   ],
   "source": [
    "average_squirrel_num = nyc_squirrels['hectare_squirrel_number'].mean()\n",
    "average_squirrel_num"
   ]
  },
  {
   "cell_type": "markdown",
   "id": "a914a0d0",
   "metadata": {},
   "source": [
    "### Min and Max"
   ]
  },
  {
   "cell_type": "code",
   "execution_count": 48,
   "id": "39782683",
   "metadata": {},
   "outputs": [
    {
     "data": {
      "text/plain": [
       "1"
      ]
     },
     "execution_count": 48,
     "metadata": {},
     "output_type": "execute_result"
    }
   ],
   "source": [
    "min_hectare_num = nyc_squirrels['hectare_squirrel_number'].min()\n",
    "min_hectare_num"
   ]
  },
  {
   "cell_type": "code",
   "execution_count": 49,
   "id": "a56346fe",
   "metadata": {},
   "outputs": [
    {
     "data": {
      "text/plain": [
       "23"
      ]
     },
     "execution_count": 49,
     "metadata": {},
     "output_type": "execute_result"
    }
   ],
   "source": [
    "max_hectare_num = nyc_squirrels['hectare_squirrel_number'].max()\n",
    "max_hectare_num"
   ]
  },
  {
   "cell_type": "code",
   "execution_count": 50,
   "id": "6e433813",
   "metadata": {},
   "outputs": [
    {
     "data": {
      "text/plain": [
       "11"
      ]
     },
     "execution_count": 50,
     "metadata": {},
     "output_type": "execute_result"
    }
   ],
   "source": [
    "min_comm_dist = nyc_squirrels['community_districts'].min()\n",
    "min_comm_dist"
   ]
  },
  {
   "cell_type": "code",
   "execution_count": 51,
   "id": "e93a489b",
   "metadata": {},
   "outputs": [
    {
     "data": {
      "text/plain": [
       "23"
      ]
     },
     "execution_count": 51,
     "metadata": {},
     "output_type": "execute_result"
    }
   ],
   "source": [
    "max_comm_dist = nyc_squirrels['community_districts'].max()\n",
    "max_comm_dist"
   ]
  },
  {
   "cell_type": "markdown",
   "id": "a6fb4da0",
   "metadata": {},
   "source": [
    "### Range"
   ]
  },
  {
   "cell_type": "code",
   "execution_count": 52,
   "id": "5827e977",
   "metadata": {},
   "outputs": [
    {
     "data": {
      "text/plain": [
       "22"
      ]
     },
     "execution_count": 52,
     "metadata": {},
     "output_type": "execute_result"
    }
   ],
   "source": [
    "range_of_hectares = max_hectare_num - min_hectare_num\n",
    "range_of_hectares"
   ]
  },
  {
   "cell_type": "code",
   "execution_count": 53,
   "id": "bd33771c",
   "metadata": {},
   "outputs": [
    {
     "data": {
      "text/plain": [
       "12"
      ]
     },
     "execution_count": 53,
     "metadata": {},
     "output_type": "execute_result"
    }
   ],
   "source": [
    "range_of_comm_dist = max_comm_dist - min_comm_dist\n",
    "range_of_comm_dist"
   ]
  },
  {
   "cell_type": "markdown",
   "id": "315562ee",
   "metadata": {},
   "source": [
    "### Mean"
   ]
  },
  {
   "cell_type": "code",
   "execution_count": 54,
   "id": "166c68bb",
   "metadata": {},
   "outputs": [
    {
     "data": {
      "text/plain": [
       "4.123718160767449"
      ]
     },
     "execution_count": 54,
     "metadata": {},
     "output_type": "execute_result"
    }
   ],
   "source": [
    "hectare_mean = nyc_squirrels['hectare_squirrel_number'].mean()\n",
    "hectare_mean"
   ]
  },
  {
   "cell_type": "code",
   "execution_count": 55,
   "id": "e1ad52ac",
   "metadata": {},
   "outputs": [
    {
     "data": {
      "text/plain": [
       "18.99603043334436"
      ]
     },
     "execution_count": 55,
     "metadata": {},
     "output_type": "execute_result"
    }
   ],
   "source": [
    "comm_dist_mean = nyc_squirrels['community_districts'].mean()\n",
    "comm_dist_mean"
   ]
  },
  {
   "cell_type": "markdown",
   "id": "196736fa",
   "metadata": {},
   "source": [
    "### Median"
   ]
  },
  {
   "cell_type": "code",
   "execution_count": 56,
   "id": "a581c77f",
   "metadata": {},
   "outputs": [
    {
     "data": {
      "text/plain": [
       "3.0"
      ]
     },
     "execution_count": 56,
     "metadata": {},
     "output_type": "execute_result"
    }
   ],
   "source": [
    "hectare_median = nyc_squirrels['hectare_squirrel_number'].median()\n",
    "hectare_median"
   ]
  },
  {
   "cell_type": "code",
   "execution_count": 57,
   "id": "b3167c95",
   "metadata": {},
   "outputs": [
    {
     "data": {
      "text/plain": [
       "19.0"
      ]
     },
     "execution_count": 57,
     "metadata": {},
     "output_type": "execute_result"
    }
   ],
   "source": [
    "comm_dist_median = nyc_squirrels['community_districts'].median()\n",
    "comm_dist_median"
   ]
  },
  {
   "cell_type": "code",
   "execution_count": 63,
   "id": "b7e5dbf0",
   "metadata": {
    "scrolled": false
   },
   "outputs": [
    {
     "data": {
      "text/plain": [
       "<matplotlib.legend.Legend at 0x26b742e4520>"
      ]
     },
     "execution_count": 63,
     "metadata": {},
     "output_type": "execute_result"
    },
    {
     "data": {
      "image/png": "[encoded data removed]",
      "text/plain": [
       "<Figure size 864x576 with 1 Axes>"
      ]
     },
     "metadata": {
      "needs_background": "light"
     },
     "output_type": "display_data"
    }
   ],
   "source": [
    "plt.figure(figsize=(12,8))\n",
    "nyc_squirrels['hectare_squirrel_number'].hist(bins=30) \n",
    "plt.axvline(hectare_mean, color='r', label='mean')\n",
    "plt.legend()"
   ]
  },
  {
   "cell_type": "code",
   "execution_count": 64,
   "id": "f4941968",
   "metadata": {},
   "outputs": [
    {
     "data": {
      "text/plain": [
       "<matplotlib.legend.Legend at 0x26b74c2e7d0>"
      ]
     },
     "execution_count": 64,
     "metadata": {},
     "output_type": "execute_result"
    },
    {
     "data": {
      "image/png": "[encoded data removed]",
      "text/plain": [
       "<Figure size 864x576 with 1 Axes>"
      ]
     },
     "metadata": {
      "needs_background": "light"
     },
     "output_type": "display_data"
    }
   ],
   "source": [
    "plt.figure(figsize=(12,8))\n",
    "nyc_squirrels['hectare_squirrel_number'].hist(bins=30)\n",
    "plt.axvline(hectare_median, color='g', label='median')\n",
    "plt.legend()"
   ]
  },
  {
   "cell_type": "code",
   "execution_count": 65,
   "id": "194462de",
   "metadata": {},
   "outputs": [
    {
     "data": {
      "image/png": "[encoded data removed]",
      "text/plain": [
       "<Figure size 864x576 with 1 Axes>"
      ]
     },
     "metadata": {
      "needs_background": "light"
     },
     "output_type": "display_data"
    }
   ],
   "source": [
    "plt.figure(figsize=(12,8))\n",
    "plt.bar(nyc_squirrels['hectare_squirrel_number'], nyc_squirrels['community_districts'])\n",
    "\n",
    "plt.axhline(comm_dist_mean, color='r', label='mean')\n",
    "plt.axhline(comm_dist_mean, color='b', label='median')\n",
    "\n",
    "plt.show()"
   ]
  },
  {
   "cell_type": "markdown",
   "id": "4341b60b",
   "metadata": {},
   "source": [
    "### Interquartile Range"
   ]
  },
  {
   "cell_type": "code",
   "execution_count": 66,
   "id": "e0c0b3e6",
   "metadata": {},
   "outputs": [
    {
     "data": {
      "text/plain": [
       "2.0"
      ]
     },
     "execution_count": 66,
     "metadata": {},
     "output_type": "execute_result"
    }
   ],
   "source": [
    "q1_hectare = nyc_squirrels['hectare_squirrel_number'].quantile(.25)\n",
    "q1_hectare"
   ]
  },
  {
   "cell_type": "code",
   "execution_count": 69,
   "id": "8aab1d82",
   "metadata": {},
   "outputs": [
    {
     "data": {
      "text/plain": [
       "6.0"
      ]
     },
     "execution_count": 69,
     "metadata": {},
     "output_type": "execute_result"
    }
   ],
   "source": [
    "q3_hectare = nyc_squirrels['hectare_squirrel_number'].quantile(.75)\n",
    "q3_hectare"
   ]
  },
  {
   "cell_type": "code",
   "execution_count": 70,
   "id": "13dd4819",
   "metadata": {},
   "outputs": [
    {
     "data": {
      "text/plain": [
       "4.0"
      ]
     },
     "execution_count": 70,
     "metadata": {},
     "output_type": "execute_result"
    }
   ],
   "source": [
    "iqr_hectare = q3_hectare - q1_hectare\n",
    "iqr_hectare"
   ]
  },
  {
   "cell_type": "code",
   "execution_count": 71,
   "id": "bda0e0fc",
   "metadata": {},
   "outputs": [
    {
     "data": {
      "text/plain": [
       "<matplotlib.legend.Legend at 0x26b79c86a70>"
      ]
     },
     "execution_count": 71,
     "metadata": {},
     "output_type": "execute_result"
    },
    {
     "data": {
      "image/png": "[encoded data removed]",
      "text/plain": [
       "<Figure size 864x576 with 1 Axes>"
      ]
     },
     "metadata": {
      "needs_background": "light"
     },
     "output_type": "display_data"
    }
   ],
   "source": [
    "plt.figure(figsize=(12,8))\n",
    "\n",
    "nyc_squirrels['hectare_squirrel_number'].hist(bins=30)\n",
    "\n",
    "plt.axvline(q1_hectare, color='r', label='Q1')\n",
    "plt.axvline(q3_hectare, color='g', label='Q2')\n",
    "\n",
    "plt.legend()"
   ]
  },
  {
   "cell_type": "code",
   "execution_count": 72,
   "id": "03102873",
   "metadata": {},
   "outputs": [
    {
     "data": {
      "text/plain": [
       "<matplotlib.legend.Legend at 0x26b79c86da0>"
      ]
     },
     "execution_count": 72,
     "metadata": {},
     "output_type": "execute_result"
    },
    {
     "data": {
      "image/png": "[encoded data removed]",
      "text/plain": [
       "<Figure size 864x576 with 1 Axes>"
      ]
     },
     "metadata": {
      "needs_background": "light"
     },
     "output_type": "display_data"
    }
   ],
   "source": [
    "plt.figure(figsize=(12,8))\n",
    "\n",
    "nyc_squirrels['community_districts'].hist(bins=30)\n",
    "\n",
    "plt.axvline(nyc_squirrels['community_districts'].quantile(.25), color='r', label='Q1')\n",
    "plt.axvline(nyc_squirrels['community_districts'].quantile(.75), color='g', label='Q2')\n",
    "\n",
    "plt.legend()"
   ]
  },
  {
   "cell_type": "code",
   "execution_count": 74,
   "id": "1b268b6b",
   "metadata": {},
   "outputs": [
    {
     "data": {
      "text/plain": [
       "<matplotlib.legend.Legend at 0x26b7401c340>"
      ]
     },
     "execution_count": 74,
     "metadata": {},
     "output_type": "execute_result"
    },
    {
     "data": {
      "image/png": "[encoded data removed]",
      "text/plain": [
       "<Figure size 864x576 with 1 Axes>"
      ]
     },
     "metadata": {
      "needs_background": "light"
     },
     "output_type": "display_data"
    }
   ],
   "source": [
    "plt.figure(figsize=(12,8))\n",
    "\n",
    "plt.scatter(nyc_squirrels['community_districts'], nyc_squirrels['hectare_squirrel_number'], s=100)\n",
    "\n",
    "plt.axvline(nyc_squirrels['community_districts'].quantile(.25), color='r', label='Q1 Community Districts')\n",
    "plt.axvline(nyc_squirrels['community_districts'].quantile(.75), color='g', label='Q2 Weight')\n",
    "\n",
    "plt.axhline(nyc_squirrels['hectare_squirrel_number'].quantile(.25), color='y', label='Q1 Hectare')\n",
    "plt.axhline(nyc_squirrels['hectare_squirrel_number'].quantile(.75), color='m', label='Q3 Hectare')\n",
    "\n",
    "plt.legend()"
   ]
  },
  {
   "cell_type": "markdown",
   "id": "a5b94da7",
   "metadata": {},
   "source": [
    "### Calculating Variance"
   ]
  },
  {
   "cell_type": "code",
   "execution_count": 78,
   "id": "6dc7c392",
   "metadata": {},
   "outputs": [
    {
     "data": {
      "text/plain": [
       "9.588262543968554"
      ]
     },
     "execution_count": 78,
     "metadata": {},
     "output_type": "execute_result"
    }
   ],
   "source": [
    "nyc_squirrels['hectare_squirrel_number'].var()"
   ]
  },
  {
   "cell_type": "code",
   "execution_count": 79,
   "id": "2a622668",
   "metadata": {},
   "outputs": [
    {
     "data": {
      "text/plain": [
       "0.05491474692261165"
      ]
     },
     "execution_count": 79,
     "metadata": {},
     "output_type": "execute_result"
    }
   ],
   "source": [
    "nyc_squirrels['community_districts'].var()"
   ]
  },
  {
   "cell_type": "markdown",
   "id": "1fad355f",
   "metadata": {},
   "source": [
    "### Standard Deviation"
   ]
  },
  {
   "cell_type": "code",
   "execution_count": 80,
   "id": "ff8ad9a7",
   "metadata": {},
   "outputs": [
    {
     "data": {
      "text/plain": [
       "3.0964919738259544"
      ]
     },
     "execution_count": 80,
     "metadata": {},
     "output_type": "execute_result"
    }
   ],
   "source": [
    "nyc_squirrels['hectare_squirrel_number'].std()"
   ]
  },
  {
   "cell_type": "code",
   "execution_count": 81,
   "id": "0afbb6f8",
   "metadata": {},
   "outputs": [
    {
     "data": {
      "text/plain": [
       "0.23433895733021354"
      ]
     },
     "execution_count": 81,
     "metadata": {},
     "output_type": "execute_result"
    }
   ],
   "source": [
    "nyc_squirrels['community_districts'].std()"
   ]
  },
  {
   "cell_type": "code",
   "execution_count": 82,
   "id": "8f8ab7de",
   "metadata": {},
   "outputs": [],
   "source": [
    "comm_dist_mean = nyc_squirrels['community_districts'].mean()\n",
    "comm_dist_std = nyc_squirrels['community_districts'].std()"
   ]
  },
  {
   "cell_type": "code",
   "execution_count": 83,
   "id": "3f658962",
   "metadata": {},
   "outputs": [
    {
     "data": {
      "text/plain": [
       "<matplotlib.legend.Legend at 0x26b7489cf10>"
      ]
     },
     "execution_count": 83,
     "metadata": {},
     "output_type": "execute_result"
    },
    {
     "data": {
      "image/png": "[encoded data removed]",
      "text/plain": [
       "<Figure size 864x576 with 1 Axes>"
      ]
     },
     "metadata": {
      "needs_background": "light"
     },
     "output_type": "display_data"
    }
   ],
   "source": [
    "plt.figure(figsize=(12,8))\n",
    "\n",
    "nyc_squirrels['community_districts'].hist(bins=20)\n",
    "\n",
    "plt.axvline(comm_dist_mean, color='r', label='mean')\n",
    "\n",
    "plt.axvline(comm_dist_mean - comm_dist_std, color='g', label='1 standard deviation')\n",
    "plt.axvline(comm_dist_mean + comm_dist_std, color='g', label='1 standard deviation')\n",
    "\n",
    "plt.legend()"
   ]
  },
  {
   "cell_type": "markdown",
   "id": "6d54d7fb",
   "metadata": {},
   "source": [
    "### Mean, median, mode, min, max and quantiles"
   ]
  },
  {
   "cell_type": "code",
   "execution_count": 85,
   "id": "0c974f44",
   "metadata": {},
   "outputs": [
    {
     "data": {
      "text/html": [
       "<div>\n",
       "<style scoped>\n",
       "    .dataframe tbody tr th:only-of-type {\n",
       "        vertical-align: middle;\n",
       "    }\n",
       "\n",
       "    .dataframe tbody tr th {\n",
       "        vertical-align: top;\n",
       "    }\n",
       "\n",
       "    .dataframe thead th {\n",
       "        text-align: right;\n",
       "    }\n",
       "</style>\n",
       "<table border=\"1\" class=\"dataframe\">\n",
       "  <thead>\n",
       "    <tr style=\"text-align: right;\">\n",
       "      <th></th>\n",
       "      <th>hectare_squirrel_number</th>\n",
       "      <th>community_districts</th>\n",
       "    </tr>\n",
       "  </thead>\n",
       "  <tbody>\n",
       "    <tr>\n",
       "      <th>count</th>\n",
       "      <td>3023.000000</td>\n",
       "      <td>3023.000000</td>\n",
       "    </tr>\n",
       "    <tr>\n",
       "      <th>mean</th>\n",
       "      <td>4.123718</td>\n",
       "      <td>18.996030</td>\n",
       "    </tr>\n",
       "    <tr>\n",
       "      <th>std</th>\n",
       "      <td>3.096492</td>\n",
       "      <td>0.234339</td>\n",
       "    </tr>\n",
       "    <tr>\n",
       "      <th>min</th>\n",
       "      <td>1.000000</td>\n",
       "      <td>11.000000</td>\n",
       "    </tr>\n",
       "    <tr>\n",
       "      <th>25%</th>\n",
       "      <td>2.000000</td>\n",
       "      <td>19.000000</td>\n",
       "    </tr>\n",
       "    <tr>\n",
       "      <th>50%</th>\n",
       "      <td>3.000000</td>\n",
       "      <td>19.000000</td>\n",
       "    </tr>\n",
       "    <tr>\n",
       "      <th>75%</th>\n",
       "      <td>6.000000</td>\n",
       "      <td>19.000000</td>\n",
       "    </tr>\n",
       "    <tr>\n",
       "      <th>max</th>\n",
       "      <td>23.000000</td>\n",
       "      <td>23.000000</td>\n",
       "    </tr>\n",
       "  </tbody>\n",
       "</table>\n",
       "</div>"
      ],
      "text/plain": [
       "       hectare_squirrel_number  community_districts\n",
       "count              3023.000000          3023.000000\n",
       "mean                  4.123718            18.996030\n",
       "std                   3.096492             0.234339\n",
       "min                   1.000000            11.000000\n",
       "25%                   2.000000            19.000000\n",
       "50%                   3.000000            19.000000\n",
       "75%                   6.000000            19.000000\n",
       "max                  23.000000            23.000000"
      ]
     },
     "execution_count": 85,
     "metadata": {},
     "output_type": "execute_result"
    }
   ],
   "source": [
    "nyc_squirrels.describe()"
   ]
  },
  {
   "cell_type": "markdown",
   "id": "e6fb5cb5",
   "metadata": {},
   "source": [
    "### Univariate Analysis"
   ]
  },
  {
   "cell_type": "code",
   "execution_count": 88,
   "id": "fb9d004e",
   "metadata": {},
   "outputs": [
    {
     "name": "stderr",
     "output_type": "stream",
     "text": [
      "C:\\Users\\molly\\Desktop\\devMountain\\specializations\\week-11\\stats-report\\env\\lib\\site-packages\\seaborn\\_decorators.py:36: FutureWarning: Pass the following variable as a keyword arg: x. From version 0.12, the only valid positional argument will be `data`, and passing other arguments without an explicit keyword will result in an error or misinterpretation.\n",
      "  warnings.warn(\n"
     ]
    },
    {
     "data": {
      "image/png": "[encoded data removed]",
      "text/plain": [
       "<Figure size 432x288 with 1 Axes>"
      ]
     },
     "metadata": {
      "needs_background": "light"
     },
     "output_type": "display_data"
    }
   ],
   "source": [
    "sns.countplot(nyc_squirrels['hectare_squirrel_number'])\n",
    "\n",
    "plt.show()"
   ]
  },
  {
   "cell_type": "markdown",
   "id": "0d583e78",
   "metadata": {},
   "source": [
    "### Considering only Hectares"
   ]
  },
  {
   "cell_type": "code",
   "execution_count": 89,
   "id": "53bb07f7",
   "metadata": {},
   "outputs": [
    {
     "data": {
      "text/plain": [
       "0    3\n",
       "1    3\n",
       "2    3\n",
       "3    5\n",
       "4    1\n",
       "Name: hectare_squirrel_number, dtype: int64"
      ]
     },
     "execution_count": 89,
     "metadata": {},
     "output_type": "execute_result"
    }
   ],
   "source": [
    "hectare = nyc_squirrels['hectare_squirrel_number']\n",
    "hectare.head()"
   ]
  },
  {
   "cell_type": "code",
   "execution_count": 90,
   "id": "bf41c887",
   "metadata": {},
   "outputs": [
    {
     "data": {
      "text/plain": [
       "(3023,)"
      ]
     },
     "execution_count": 90,
     "metadata": {},
     "output_type": "execute_result"
    }
   ],
   "source": [
    "hectare.shape"
   ]
  },
  {
   "cell_type": "markdown",
   "id": "c3d6262c",
   "metadata": {},
   "source": [
    "#### Histogram-plot"
   ]
  },
  {
   "cell_type": "code",
   "execution_count": 91,
   "id": "167668f1",
   "metadata": {},
   "outputs": [
    {
     "data": {
      "text/plain": [
       "<AxesSubplot:title={'center':'Hectare Histogram'}, ylabel='Frequency'>"
      ]
     },
     "execution_count": 91,
     "metadata": {},
     "output_type": "execute_result"
    },
    {
     "data": {
      "image/png": "[encoded data removed]",
      "text/plain": [
       "<Figure size 864x576 with 1 Axes>"
      ]
     },
     "metadata": {
      "needs_background": "light"
     },
     "output_type": "display_data"
    }
   ],
   "source": [
    "plt.figure(figsize=(12,8))\n",
    "\n",
    "hectare.plot(kind = 'hist',\n",
    "            title ='Hectare Histogram')"
   ]
  },
  {
   "cell_type": "markdown",
   "id": "7d0f4604",
   "metadata": {},
   "source": [
    "#### Box-plot"
   ]
  },
  {
   "cell_type": "code",
   "execution_count": 92,
   "id": "65a74518",
   "metadata": {},
   "outputs": [
    {
     "data": {
      "text/plain": [
       "<AxesSubplot:title={'center':'Hectare Box-Plot'}>"
      ]
     },
     "execution_count": 92,
     "metadata": {},
     "output_type": "execute_result"
    },
    {
     "data": {
      "image/png": "[encoded data removed]",
      "text/plain": [
       "<Figure size 864x576 with 1 Axes>"
      ]
     },
     "metadata": {
      "needs_background": "light"
     },
     "output_type": "display_data"
    }
   ],
   "source": [
    "plt.figure(figsize=(12,8))\n",
    "\n",
    "hectare.plot(kind = 'box',\n",
    "            title = 'Hectare Box-Plot')"
   ]
  },
  {
   "cell_type": "markdown",
   "id": "3918986a",
   "metadata": {},
   "source": [
    "#### KDE distribution for hectare"
   ]
  },
  {
   "cell_type": "code",
   "execution_count": 93,
   "id": "36763f8f",
   "metadata": {},
   "outputs": [
    {
     "data": {
      "text/plain": [
       "<AxesSubplot:title={'center':'Hectare KDE'}, ylabel='Density'>"
      ]
     },
     "execution_count": 93,
     "metadata": {},
     "output_type": "execute_result"
    },
    {
     "data": {
      "image/png": "[encoded data removed]",
      "text/plain": [
       "<Figure size 864x576 with 1 Axes>"
      ]
     },
     "metadata": {
      "needs_background": "light"
     },
     "output_type": "display_data"
    }
   ],
   "source": [
    "hectare.plot(kind = 'kde', \n",
    "            title = 'Hectare KDE', figsize=(12,8))"
   ]
  },
  {
   "cell_type": "code",
   "execution_count": 94,
   "id": "6864b9dc",
   "metadata": {},
   "outputs": [
    {
     "data": {
      "text/plain": [
       "0    19\n",
       "1    19\n",
       "2    19\n",
       "3    19\n",
       "4    19\n",
       "Name: community_districts, dtype: int64"
      ]
     },
     "execution_count": 94,
     "metadata": {},
     "output_type": "execute_result"
    }
   ],
   "source": [
    "community_district = nyc_squirrels['community_districts']\n",
    "community_district.head()"
   ]
  },
  {
   "cell_type": "code",
   "execution_count": 95,
   "id": "ce3ab680",
   "metadata": {},
   "outputs": [
    {
     "data": {
      "text/plain": [
       "(3023,)"
      ]
     },
     "execution_count": 95,
     "metadata": {},
     "output_type": "execute_result"
    }
   ],
   "source": [
    "community_district.shape"
   ]
  },
  {
   "cell_type": "markdown",
   "id": "3ad02275",
   "metadata": {},
   "source": [
    "#### Histogram-plot"
   ]
  },
  {
   "cell_type": "code",
   "execution_count": 96,
   "id": "4f4c6e74",
   "metadata": {},
   "outputs": [
    {
     "data": {
      "text/plain": [
       "<AxesSubplot:title={'center':'Community Districts Histogram'}, ylabel='Frequency'>"
      ]
     },
     "execution_count": 96,
     "metadata": {},
     "output_type": "execute_result"
    },
    {
     "data": {
      "image/png": "[encoded data removed]",
      "text/plain": [
       "<Figure size 864x576 with 1 Axes>"
      ]
     },
     "metadata": {
      "needs_background": "light"
     },
     "output_type": "display_data"
    }
   ],
   "source": [
    "plt.figure(figsize=(12,8))\n",
    "\n",
    "community_district.plot(kind = 'hist', \n",
    "                       title = 'Community Districts Histogram')"
   ]
  },
  {
   "cell_type": "markdown",
   "id": "12b09001",
   "metadata": {},
   "source": [
    "#### Box-plot"
   ]
  },
  {
   "cell_type": "code",
   "execution_count": 97,
   "id": "189dc218",
   "metadata": {},
   "outputs": [
    {
     "data": {
      "text/plain": [
       "<AxesSubplot:title={'center':'Community Districts Box-plot'}>"
      ]
     },
     "execution_count": 97,
     "metadata": {},
     "output_type": "execute_result"
    },
    {
     "data": {
      "image/png": "[encoded data removed]",
      "text/plain": [
       "<Figure size 864x576 with 1 Axes>"
      ]
     },
     "metadata": {
      "needs_background": "light"
     },
     "output_type": "display_data"
    }
   ],
   "source": [
    "plt.figure(figsize=(12,8))\n",
    "\n",
    "community_district.plot(kind = 'box', \n",
    "                       title = 'Community Districts Box-plot')"
   ]
  },
  {
   "cell_type": "markdown",
   "id": "e5ef1054",
   "metadata": {},
   "source": [
    "#### KDE distribution for height"
   ]
  },
  {
   "cell_type": "code",
   "execution_count": 98,
   "id": "484a399e",
   "metadata": {},
   "outputs": [
    {
     "data": {
      "text/plain": [
       "<AxesSubplot:title={'center':'Community Districts KDE'}, ylabel='Density'>"
      ]
     },
     "execution_count": 98,
     "metadata": {},
     "output_type": "execute_result"
    },
    {
     "data": {
      "image/png": "[encoded data removed]",
      "text/plain": [
       "<Figure size 864x576 with 1 Axes>"
      ]
     },
     "metadata": {
      "needs_background": "light"
     },
     "output_type": "display_data"
    }
   ],
   "source": [
    "plt.figure(figsize=(12,8))\n",
    "\n",
    "community_district.plot(kind = 'kde', \n",
    "                       title = 'Community Districts KDE')"
   ]
  },
  {
   "cell_type": "markdown",
   "id": "4849792d",
   "metadata": {},
   "source": [
    "#### Skewness"
   ]
  },
  {
   "cell_type": "code",
   "execution_count": 100,
   "id": "d2cb02b9",
   "metadata": {},
   "outputs": [
    {
     "data": {
      "text/plain": [
       "1.473168352601821"
      ]
     },
     "execution_count": 100,
     "metadata": {},
     "output_type": "execute_result"
    }
   ],
   "source": [
    "nyc_squirrels['hectare_squirrel_number'].skew()"
   ]
  },
  {
   "cell_type": "code",
   "execution_count": 101,
   "id": "e5a759df",
   "metadata": {},
   "outputs": [
    {
     "data": {
      "text/plain": [
       "-23.107193455500106"
      ]
     },
     "execution_count": 101,
     "metadata": {},
     "output_type": "execute_result"
    }
   ],
   "source": [
    "nyc_squirrels['community_districts'].skew()"
   ]
  },
  {
   "cell_type": "markdown",
   "id": "2c066ea7",
   "metadata": {},
   "source": [
    "#### Kurtosis"
   ]
  },
  {
   "cell_type": "code",
   "execution_count": 102,
   "id": "c136e2a1",
   "metadata": {},
   "outputs": [
    {
     "data": {
      "text/plain": [
       "2.796272072504206"
      ]
     },
     "execution_count": 102,
     "metadata": {},
     "output_type": "execute_result"
    }
   ],
   "source": [
    "nyc_squirrels['hectare_squirrel_number'].kurtosis()"
   ]
  },
  {
   "cell_type": "code",
   "execution_count": 103,
   "id": "4cd02a20",
   "metadata": {},
   "outputs": [
    {
     "data": {
      "text/plain": [
       "953.0801211306319"
      ]
     },
     "execution_count": 103,
     "metadata": {},
     "output_type": "execute_result"
    }
   ],
   "source": [
    "nyc_squirrels['community_districts'].kurtosis()"
   ]
  },
  {
   "cell_type": "markdown",
   "id": "8ed153be",
   "metadata": {},
   "source": [
    "#### Bivariate data analysis"
   ]
  },
  {
   "cell_type": "code",
   "execution_count": 104,
   "id": "427841f7",
   "metadata": {},
   "outputs": [
    {
     "data": {
      "image/png": "[encoded data removed]",
      "text/plain": [
       "<Figure size 864x576 with 1 Axes>"
      ]
     },
     "metadata": {
      "needs_background": "light"
     },
     "output_type": "display_data"
    }
   ],
   "source": [
    "nyc_squirrels.plot.scatter(x='hectare_squirrel_number', y='community_districts', figsize=(12,8))\n",
    "plt.show()"
   ]
  },
  {
   "cell_type": "code",
   "execution_count": 106,
   "id": "cd4fbc14",
   "metadata": {},
   "outputs": [
    {
     "data": {
      "image/png": "[encoded data removed]",
      "text/plain": [
       "<Figure size 864x576 with 2 Axes>"
      ]
     },
     "metadata": {
      "needs_background": "light"
     },
     "output_type": "display_data"
    }
   ],
   "source": [
    "nyc_squirrels.plot.hexbin(x='hectare_squirrel_number', y='community_districts', gridsize=20, figsize=(12,8))\n",
    "plt.show()"
   ]
  },
  {
   "cell_type": "markdown",
   "id": "e3a22828",
   "metadata": {},
   "source": [
    "#### Covariance"
   ]
  },
  {
   "cell_type": "code",
   "execution_count": 107,
   "id": "c91ca22f",
   "metadata": {},
   "outputs": [
    {
     "data": {
      "text/html": [
       "<div>\n",
       "<style scoped>\n",
       "    .dataframe tbody tr th:only-of-type {\n",
       "        vertical-align: middle;\n",
       "    }\n",
       "\n",
       "    .dataframe tbody tr th {\n",
       "        vertical-align: top;\n",
       "    }\n",
       "\n",
       "    .dataframe thead th {\n",
       "        text-align: right;\n",
       "    }\n",
       "</style>\n",
       "<table border=\"1\" class=\"dataframe\">\n",
       "  <thead>\n",
       "    <tr style=\"text-align: right;\">\n",
       "      <th></th>\n",
       "      <th>hectare_squirrel_number</th>\n",
       "      <th>community_districts</th>\n",
       "    </tr>\n",
       "  </thead>\n",
       "  <tbody>\n",
       "    <tr>\n",
       "      <th>hectare_squirrel_number</th>\n",
       "      <td>9.588263</td>\n",
       "      <td>0.008433</td>\n",
       "    </tr>\n",
       "    <tr>\n",
       "      <th>community_districts</th>\n",
       "      <td>0.008433</td>\n",
       "      <td>0.054915</td>\n",
       "    </tr>\n",
       "  </tbody>\n",
       "</table>\n",
       "</div>"
      ],
      "text/plain": [
       "                         hectare_squirrel_number  community_districts\n",
       "hectare_squirrel_number                 9.588263             0.008433\n",
       "community_districts                     0.008433             0.054915"
      ]
     },
     "execution_count": 107,
     "metadata": {},
     "output_type": "execute_result"
    }
   ],
   "source": [
    "nyc_squirrels_cov = nyc_squirrels.cov()\n",
    "nyc_squirrels_cov"
   ]
  },
  {
   "cell_type": "markdown",
   "id": "7f3f2864",
   "metadata": {},
   "source": [
    "#### Correlation"
   ]
  },
  {
   "cell_type": "code",
   "execution_count": 108,
   "id": "cd2f31af",
   "metadata": {},
   "outputs": [
    {
     "data": {
      "text/html": [
       "<div>\n",
       "<style scoped>\n",
       "    .dataframe tbody tr th:only-of-type {\n",
       "        vertical-align: middle;\n",
       "    }\n",
       "\n",
       "    .dataframe tbody tr th {\n",
       "        vertical-align: top;\n",
       "    }\n",
       "\n",
       "    .dataframe thead th {\n",
       "        text-align: right;\n",
       "    }\n",
       "</style>\n",
       "<table border=\"1\" class=\"dataframe\">\n",
       "  <thead>\n",
       "    <tr style=\"text-align: right;\">\n",
       "      <th></th>\n",
       "      <th>hectare_squirrel_number</th>\n",
       "      <th>community_districts</th>\n",
       "    </tr>\n",
       "  </thead>\n",
       "  <tbody>\n",
       "    <tr>\n",
       "      <th>hectare_squirrel_number</th>\n",
       "      <td>1.000000</td>\n",
       "      <td>0.011622</td>\n",
       "    </tr>\n",
       "    <tr>\n",
       "      <th>community_districts</th>\n",
       "      <td>0.011622</td>\n",
       "      <td>1.000000</td>\n",
       "    </tr>\n",
       "  </tbody>\n",
       "</table>\n",
       "</div>"
      ],
      "text/plain": [
       "                         hectare_squirrel_number  community_districts\n",
       "hectare_squirrel_number                 1.000000             0.011622\n",
       "community_districts                     0.011622             1.000000"
      ]
     },
     "execution_count": 108,
     "metadata": {},
     "output_type": "execute_result"
    }
   ],
   "source": [
    "nyc_squirrels_corr = nyc_squirrels.corr()\n",
    "nyc_squirrels_corr"
   ]
  },
  {
   "cell_type": "code",
   "execution_count": 109,
   "id": "9278f1c3",
   "metadata": {},
   "outputs": [
    {
     "data": {
      "text/plain": [
       "<AxesSubplot:>"
      ]
     },
     "execution_count": 109,
     "metadata": {},
     "output_type": "execute_result"
    },
    {
     "data": {
      "image/png": "[encoded data removed]",
      "text/plain": [
       "<Figure size 864x576 with 2 Axes>"
      ]
     },
     "metadata": {
      "needs_background": "light"
     },
     "output_type": "display_data"
    }
   ],
   "source": [
    "plt.figure(figsize=(12,8))\n",
    "sns.heatmap(nyc_squirrels_corr, annot=True)"
   ]
  },
  {
   "cell_type": "code",
   "execution_count": 110,
   "id": "813c0adc",
   "metadata": {},
   "outputs": [
    {
     "name": "stdout",
     "output_type": "stream",
     "text": [
      "Requirement already satisfied: scipy in c:\\users\\molly\\desktop\\devmountain\\specializations\\week-11\\stats-report\\env\\lib\\site-packages (1.7.3)"
     ]
    },
    {
     "name": "stderr",
     "output_type": "stream",
     "text": [
      "WARNING: You are using pip version 21.2.4; however, version 21.3.1 is available.\n",
      "You should consider upgrading via the 'C:\\Users\\molly\\Desktop\\devMountain\\specializations\\week-11\\stats-report\\env\\Scripts\\python.exe -m pip install --upgrade pip' command.\n"
     ]
    },
    {
     "name": "stdout",
     "output_type": "stream",
     "text": [
      "\n",
      "Requirement already satisfied: numpy<1.23.0,>=1.16.5 in c:\\users\\molly\\desktop\\devmountain\\specializations\\week-11\\stats-report\\env\\lib\\site-packages (from scipy) (1.22.1)\n"
     ]
    }
   ],
   "source": [
    "!pip install -U scipy"
   ]
  },
  {
   "cell_type": "code",
   "execution_count": 111,
   "id": "189cbe1d",
   "metadata": {},
   "outputs": [
    {
     "name": "stdout",
     "output_type": "stream",
     "text": [
      "Collecting statsmodels\n",
      "  Downloading statsmodels-0.13.1-cp310-cp310-win_amd64.whl (9.1 MB)\n",
      "Requirement already satisfied: numpy>=1.17 in c:\\users\\molly\\desktop\\devmountain\\specializations\\week-11\\stats-report\\env\\lib\\site-packages (from statsmodels) (1.22.1)\n",
      "Requirement already satisfied: scipy>=1.3 in c:\\users\\molly\\desktop\\devmountain\\specializations\\week-11\\stats-report\\env\\lib\\site-packages (from statsmodels) (1.7.3)\n",
      "Requirement already satisfied: pandas>=0.25 in c:\\users\\molly\\desktop\\devmountain\\specializations\\week-11\\stats-report\\env\\lib\\site-packages (from statsmodels) (1.4.0)\n",
      "Collecting patsy>=0.5.2\n",
      "  Downloading patsy-0.5.2-py2.py3-none-any.whl (233 kB)\n",
      "Requirement already satisfied: pytz>=2020.1 in c:\\users\\molly\\desktop\\devmountain\\specializations\\week-11\\stats-report\\env\\lib\\site-packages (from pandas>=0.25->statsmodels) (2021.3)\n",
      "Requirement already satisfied: python-dateutil>=2.8.1 in c:\\users\\molly\\desktop\\devmountain\\specializations\\week-11\\stats-report\\env\\lib\\site-packages (from pandas>=0.25->statsmodels) (2.8.2)\n",
      "Requirement already satisfied: six in c:\\users\\molly\\desktop\\devmountain\\specializations\\week-11\\stats-report\\env\\lib\\site-packages (from patsy>=0.5.2->statsmodels) (1.16.0)\n",
      "Installing collected packages: patsy, statsmodels\n",
      "Successfully installed patsy-0.5.2 statsmodels-0.13.1\n"
     ]
    },
    {
     "name": "stderr",
     "output_type": "stream",
     "text": [
      "WARNING: You are using pip version 21.2.4; however, version 21.3.1 is available.\n",
      "You should consider upgrading via the 'C:\\Users\\molly\\Desktop\\devMountain\\specializations\\week-11\\stats-report\\env\\Scripts\\python.exe -m pip install --upgrade pip' command.\n"
     ]
    }
   ],
   "source": [
    "!pip install -U statsmodels"
   ]
  },
  {
   "cell_type": "code",
   "execution_count": 112,
   "id": "c49edc51",
   "metadata": {},
   "outputs": [],
   "source": [
    "import scipy\n",
    "import statsmodels"
   ]
  },
  {
   "cell_type": "code",
   "execution_count": 120,
   "id": "ddb27b75",
   "metadata": {},
   "outputs": [],
   "source": [
    "from scipy import stats\n",
    "from statsmodels.stats.weightstats import DescrStatsW\n",
    "from scipy.stats import norm\n",
    "from pandas.plotting import register_matplotlib_converters\n",
    "register_matplotlib_converters()"
   ]
  },
  {
   "cell_type": "code",
   "execution_count": 114,
   "id": "cb52f509",
   "metadata": {},
   "outputs": [
    {
     "name": "stderr",
     "output_type": "stream",
     "text": [
      "C:\\Users\\molly\\AppData\\Local\\Temp\\ipykernel_11748\\939479680.py:1: DeprecationWarning: scipy.mean is deprecated and will be removed in SciPy 2.0.0, use numpy.mean instead\n",
      "  hectare_mean2 = scipy.mean(nyc_squirrels['hectare_squirrel_number'])\n"
     ]
    },
    {
     "data": {
      "text/plain": [
       "4.123718160767449"
      ]
     },
     "execution_count": 114,
     "metadata": {},
     "output_type": "execute_result"
    }
   ],
   "source": [
    "hectare_mean2 = scipy.mean(nyc_squirrels['hectare_squirrel_number'])\n",
    "hectare_mean2"
   ]
  },
  {
   "cell_type": "code",
   "execution_count": 115,
   "id": "9338846e",
   "metadata": {},
   "outputs": [],
   "source": [
    "from statsmodels.stats import stattools"
   ]
  },
  {
   "cell_type": "code",
   "execution_count": 116,
   "id": "40713a1b",
   "metadata": {},
   "outputs": [
    {
     "name": "stderr",
     "output_type": "stream",
     "text": [
      "C:\\Users\\molly\\Desktop\\devMountain\\specializations\\week-11\\stats-report\\env\\lib\\site-packages\\seaborn\\_decorators.py:36: FutureWarning: Pass the following variable as a keyword arg: x. From version 0.12, the only valid positional argument will be `data`, and passing other arguments without an explicit keyword will result in an error or misinterpretation.\n",
      "  warnings.warn(\n",
      "C:\\Users\\molly\\Desktop\\devMountain\\specializations\\week-11\\stats-report\\env\\lib\\site-packages\\seaborn\\_core.py:1326: UserWarning: Vertical orientation ignored with only `x` specified.\n",
      "  warnings.warn(single_var_warning.format(\"Vertical\", \"x\"))\n"
     ]
    },
    {
     "data": {
      "text/plain": [
       "<AxesSubplot:xlabel='hectare_squirrel_number'>"
      ]
     },
     "execution_count": 116,
     "metadata": {},
     "output_type": "execute_result"
    },
    {
     "data": {
      "image/png": "[encoded data removed]",
      "text/plain": [
       "<Figure size 864x576 with 1 Axes>"
      ]
     },
     "metadata": {
      "needs_background": "light"
     },
     "output_type": "display_data"
    }
   ],
   "source": [
    "plt.figure(figsize=(12,8))\n",
    "sns.boxplot(nyc_squirrels['hectare_squirrel_number'], orient='v')"
   ]
  },
  {
   "cell_type": "markdown",
   "id": "fab26d10",
   "metadata": {},
   "source": [
    "#### Skewness and Kurtosis with scipy"
   ]
  },
  {
   "cell_type": "code",
   "execution_count": 122,
   "id": "f9fe9418",
   "metadata": {},
   "outputs": [
    {
     "data": {
      "text/plain": [
       "1.4724372718295926"
      ]
     },
     "execution_count": 122,
     "metadata": {},
     "output_type": "execute_result"
    }
   ],
   "source": [
    "stats.skew(nyc_squirrels['hectare_squirrel_number'])"
   ]
  },
  {
   "cell_type": "code",
   "execution_count": 124,
   "id": "c888dc1a",
   "metadata": {},
   "outputs": [
    {
     "data": {
      "text/plain": [
       "951.5024856000474"
      ]
     },
     "execution_count": 124,
     "metadata": {},
     "output_type": "execute_result"
    }
   ],
   "source": [
    "stats.kurtosis(nyc_squirrels['community_districts'])"
   ]
  }
 ],
 "metadata": {
  "kernelspec": {
   "display_name": "Python 3 (ipykernel)",
   "language": "python",
   "name": "python3"
  },
  "language_info": {
   "codemirror_mode": {
    "name": "ipython",
    "version": 3
   },
   "file_extension": ".py",
   "mimetype": "text/x-python",
   "name": "python",
   "nbconvert_exporter": "python",
   "pygments_lexer": "ipython3",
   "version": "3.10.1"
  }
 },
 "nbformat": 4,
 "nbformat_minor": 5
}
