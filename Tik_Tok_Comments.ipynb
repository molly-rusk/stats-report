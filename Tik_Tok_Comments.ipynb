{
 "cells": [
  {
   "cell_type": "code",
   "execution_count": 3,
   "id": "3fbc90ec",
   "metadata": {},
   "outputs": [],
   "source": [
    "import pandas as pd"
   ]
  },
  {
   "cell_type": "code",
   "execution_count": 4,
   "id": "2afd107a",
   "metadata": {},
   "outputs": [],
   "source": [
    "import matplotlib "
   ]
  },
  {
   "cell_type": "code",
   "execution_count": 5,
   "id": "0d087b31",
   "metadata": {},
   "outputs": [],
   "source": [
    "import numpy as np"
   ]
  },
  {
   "cell_type": "code",
   "execution_count": 6,
   "id": "eac80ea7",
   "metadata": {},
   "outputs": [],
   "source": [
    "import matplotlib.pyplot as plt"
   ]
  },
  {
   "cell_type": "code",
   "execution_count": 7,
   "id": "d018bcd1",
   "metadata": {},
   "outputs": [],
   "source": [
    "import seaborn as sns"
   ]
  },
  {
   "cell_type": "code",
   "execution_count": 8,
   "id": "e40f7953",
   "metadata": {},
   "outputs": [
    {
     "data": {
      "text/html": [
       "<div>\n",
       "<style scoped>\n",
       "    .dataframe tbody tr th:only-of-type {\n",
       "        vertical-align: middle;\n",
       "    }\n",
       "\n",
       "    .dataframe tbody tr th {\n",
       "        vertical-align: top;\n",
       "    }\n",
       "\n",
       "    .dataframe thead th {\n",
       "        text-align: right;\n",
       "    }\n",
       "</style>\n",
       "<table border=\"1\" class=\"dataframe\">\n",
       "  <thead>\n",
       "    <tr style=\"text-align: right;\">\n",
       "      <th></th>\n",
       "      <th>comment_id</th>\n",
       "      <th>text</th>\n",
       "      <th>video_id</th>\n",
       "      <th>create_time</th>\n",
       "      <th>like_count</th>\n",
       "      <th>status</th>\n",
       "      <th>author.unique_id</th>\n",
       "      <th>author.nickname</th>\n",
       "      <th>author.is_private</th>\n",
       "      <th>author.language</th>\n",
       "      <th>author.signature</th>\n",
       "      <th>author.custom_verify</th>\n",
       "      <th>author.uid</th>\n",
       "      <th>author.sec_uid</th>\n",
       "      <th>author.avatar_thumb</th>\n",
       "      <th>author.region</th>\n",
       "      <th>author.ins_id</th>\n",
       "      <th>author.youtube_channel_title</th>\n",
       "      <th>author.youtube_channel_id</th>\n",
       "      <th>author.twitter_id</th>\n",
       "    </tr>\n",
       "  </thead>\n",
       "  <tbody>\n",
       "    <tr>\n",
       "      <th>0</th>\n",
       "      <td>6816879848683438085</td>\n",
       "      <td>But are you giving him a Tesla? Because he des...</td>\n",
       "      <td>6816821384652557574</td>\n",
       "      <td>1587178528</td>\n",
       "      <td>161</td>\n",
       "      <td>1</td>\n",
       "      <td>lissettecalv</td>\n",
       "      <td>Lissette | Influencer Coach</td>\n",
       "      <td>False</td>\n",
       "      <td>en</td>\n",
       "      <td>How to BUILD &amp; MONETIZE a digital biz with pur...</td>\n",
       "      <td>Verified account</td>\n",
       "      <td>133202372536832000</td>\n",
       "      <td>MS4wLjABAAAAbX7SywQS04x1ilOoKHrpTZqhQ6lD32nRC6...</td>\n",
       "      <td>https://p77-sign-sg.tiktokcdn.com/musically-ma...</td>\n",
       "      <td>US</td>\n",
       "      <td>lissettecalv</td>\n",
       "      <td>NaN</td>\n",
       "      <td>NaN</td>\n",
       "      <td>NaN</td>\n",
       "    </tr>\n",
       "    <tr>\n",
       "      <th>1</th>\n",
       "      <td>6816846992812015622</td>\n",
       "      <td>David was just hoping for some help 😢</td>\n",
       "      <td>6816821384652557574</td>\n",
       "      <td>1587170875</td>\n",
       "      <td>1165</td>\n",
       "      <td>1</td>\n",
       "      <td>hellomyfriend0_o</td>\n",
       "      <td>Isaac micallef</td>\n",
       "      <td>True</td>\n",
       "      <td>en</td>\n",
       "      <td>In bed watching Tiktok video's 😴</td>\n",
       "      <td>NaN</td>\n",
       "      <td>6744596691107824645</td>\n",
       "      <td>MS4wLjABAAAADslkcxnt1mqt2oQwQEK8d0ybBHPuCO-geV...</td>\n",
       "      <td>https://p77-sign-sg.tiktokcdn.com/musically-ma...</td>\n",
       "      <td>MT</td>\n",
       "      <td>NaN</td>\n",
       "      <td>NaN</td>\n",
       "      <td>NaN</td>\n",
       "      <td>NaN</td>\n",
       "    </tr>\n",
       "    <tr>\n",
       "      <th>2</th>\n",
       "      <td>6816942564911628294</td>\n",
       "      <td>We ain’t forgot that time he tricked us all in...</td>\n",
       "      <td>6816821384652557574</td>\n",
       "      <td>1587193131</td>\n",
       "      <td>249</td>\n",
       "      <td>1</td>\n",
       "      <td>briancarrion_</td>\n",
       "      <td>Briancarrion</td>\n",
       "      <td>False</td>\n",
       "      <td>en</td>\n",
       "      <td>Might make you cringe 🤷🏽‍♂️\\n🇻🇪</td>\n",
       "      <td>Verified account</td>\n",
       "      <td>2165547</td>\n",
       "      <td>MS4wLjABAAAAKH09hef-gLcTyrzYygfGHMazAhFaLMML7-...</td>\n",
       "      <td>https://p16-sign-sg.tiktokcdn.com/musically-ma...</td>\n",
       "      <td>US</td>\n",
       "      <td>brian.carrion_</td>\n",
       "      <td>NaN</td>\n",
       "      <td>NaN</td>\n",
       "      <td>NaN</td>\n",
       "    </tr>\n",
       "    <tr>\n",
       "      <th>3</th>\n",
       "      <td>6816824764519301125</td>\n",
       "      <td>get him a tesla</td>\n",
       "      <td>6816821384652557574</td>\n",
       "      <td>1587165700</td>\n",
       "      <td>4038</td>\n",
       "      <td>1</td>\n",
       "      <td>slumpgodkayy</td>\n",
       "      <td>kaykay the slumpgod</td>\n",
       "      <td>False</td>\n",
       "      <td>en</td>\n",
       "      <td>👻:@ kaykayyishere\\nfollow my instagram💖</td>\n",
       "      <td>NaN</td>\n",
       "      <td>6586423495932313605</td>\n",
       "      <td>MS4wLjABAAAAI1dyIIb3qlBf3LhqS3-OJITdYuc3OcWlsd...</td>\n",
       "      <td>https://p16-sign-sg.tiktokcdn.com/musically-ma...</td>\n",
       "      <td>US</td>\n",
       "      <td>kaylemraley</td>\n",
       "      <td>NaN</td>\n",
       "      <td>NaN</td>\n",
       "      <td>NaN</td>\n",
       "    </tr>\n",
       "    <tr>\n",
       "      <th>4</th>\n",
       "      <td>6816821633249001477</td>\n",
       "      <td>david ur so hung</td>\n",
       "      <td>6816821384652557574</td>\n",
       "      <td>1587164971</td>\n",
       "      <td>100</td>\n",
       "      <td>1</td>\n",
       "      <td>_4den</td>\n",
       "      <td>dad</td>\n",
       "      <td>False</td>\n",
       "      <td>en</td>\n",
       "      <td>x kinda fell off</td>\n",
       "      <td>NaN</td>\n",
       "      <td>6740418744587650054</td>\n",
       "      <td>MS4wLjABAAAAykXQ0pVI4w-y3kI1omvYzOH2xnJN0iP3lf...</td>\n",
       "      <td>https://p77-sign-sg.tiktokcdn.com/tos-maliva-a...</td>\n",
       "      <td>US</td>\n",
       "      <td>_4den</td>\n",
       "      <td>aden burgess</td>\n",
       "      <td>UCe3pSCjGls_hByctWn91rqw</td>\n",
       "      <td>NaN</td>\n",
       "    </tr>\n",
       "    <tr>\n",
       "      <th>...</th>\n",
       "      <td>...</td>\n",
       "      <td>...</td>\n",
       "      <td>...</td>\n",
       "      <td>...</td>\n",
       "      <td>...</td>\n",
       "      <td>...</td>\n",
       "      <td>...</td>\n",
       "      <td>...</td>\n",
       "      <td>...</td>\n",
       "      <td>...</td>\n",
       "      <td>...</td>\n",
       "      <td>...</td>\n",
       "      <td>...</td>\n",
       "      <td>...</td>\n",
       "      <td>...</td>\n",
       "      <td>...</td>\n",
       "      <td>...</td>\n",
       "      <td>...</td>\n",
       "      <td>...</td>\n",
       "      <td>...</td>\n",
       "    </tr>\n",
       "    <tr>\n",
       "      <th>165105</th>\n",
       "      <td>6831297427954581509</td>\n",
       "      <td>Sup I’m early</td>\n",
       "      <td>6831297085137095942</td>\n",
       "      <td>1590535380</td>\n",
       "      <td>8</td>\n",
       "      <td>1</td>\n",
       "      <td>dylannn_44</td>\n",
       "      <td>Dylan</td>\n",
       "      <td>False</td>\n",
       "      <td>en</td>\n",
       "      <td>Idk why I’m one this app still</td>\n",
       "      <td>NaN</td>\n",
       "      <td>6791792671733138438</td>\n",
       "      <td>MS4wLjABAAAAmFpqJUMC3x-JSU-6rMppK2lo0woTjbA6zn...</td>\n",
       "      <td>https://p16-sign-va.tiktokcdn.com/tos-maliva-a...</td>\n",
       "      <td>US</td>\n",
       "      <td>NaN</td>\n",
       "      <td>NaN</td>\n",
       "      <td>NaN</td>\n",
       "      <td>NaN</td>\n",
       "    </tr>\n",
       "    <tr>\n",
       "      <th>165106</th>\n",
       "      <td>6831297361822711814</td>\n",
       "      <td>￼￼</td>\n",
       "      <td>6831297085137095942</td>\n",
       "      <td>1590535364</td>\n",
       "      <td>8</td>\n",
       "      <td>1</td>\n",
       "      <td>bartaintnosimpson</td>\n",
       "      <td>Swervz</td>\n",
       "      <td>False</td>\n",
       "      <td>en</td>\n",
       "      <td>16 🇵🇱</td>\n",
       "      <td>NaN</td>\n",
       "      <td>6609698955666849798</td>\n",
       "      <td>MS4wLjABAAAA95jNX3KPhg-W6altflOh1HYrxeJIrAdaw_...</td>\n",
       "      <td>https://p16-sign-va.tiktokcdn.com/musically-ma...</td>\n",
       "      <td>GB</td>\n",
       "      <td>NaN</td>\n",
       "      <td>Swervz</td>\n",
       "      <td>UCyIJ9P3_FRuBNwQWTuhitsQ</td>\n",
       "      <td>NaN</td>\n",
       "    </tr>\n",
       "    <tr>\n",
       "      <th>165107</th>\n",
       "      <td>6831297275164868613</td>\n",
       "      <td>Ayeeee</td>\n",
       "      <td>6831297085137095942</td>\n",
       "      <td>1590535344</td>\n",
       "      <td>8</td>\n",
       "      <td>1</td>\n",
       "      <td>glock23likemike</td>\n",
       "      <td>CookieS</td>\n",
       "      <td>True</td>\n",
       "      <td>en</td>\n",
       "      <td>NaN</td>\n",
       "      <td>NaN</td>\n",
       "      <td>6722284375361356805</td>\n",
       "      <td>MS4wLjABAAAA65x9QjdnOWJXuZuDyRLUGCg8CICNET5ZYs...</td>\n",
       "      <td>https://p16-sign-va.tiktokcdn.com/tos-maliva-a...</td>\n",
       "      <td>US</td>\n",
       "      <td>NaN</td>\n",
       "      <td>NaN</td>\n",
       "      <td>NaN</td>\n",
       "      <td>NaN</td>\n",
       "    </tr>\n",
       "    <tr>\n",
       "      <th>165108</th>\n",
       "      <td>6842810518533652485</td>\n",
       "      <td>neta yo lo tuve pero no sabia jajaja 😂</td>\n",
       "      <td>6831297085137095942</td>\n",
       "      <td>1593215979</td>\n",
       "      <td>7</td>\n",
       "      <td>1</td>\n",
       "      <td>cristophercastell5</td>\n",
       "      <td>Cristopher Castellanos</td>\n",
       "      <td>False</td>\n",
       "      <td>es</td>\n",
       "      <td>NaN</td>\n",
       "      <td>NaN</td>\n",
       "      <td>6595585779418103813</td>\n",
       "      <td>MS4wLjABAAAA_ZjgBAsSdGxZ4NVWoV3iZTWelmkqFygkM-...</td>\n",
       "      <td>https://p16-sign-va.tiktokcdn.com/musically-ma...</td>\n",
       "      <td>US</td>\n",
       "      <td>NaN</td>\n",
       "      <td>NaN</td>\n",
       "      <td>NaN</td>\n",
       "      <td>NaN</td>\n",
       "    </tr>\n",
       "    <tr>\n",
       "      <th>165109</th>\n",
       "      <td>6840892206023950342</td>\n",
       "      <td>@daviddobrik I’m so sorry for the bother i kno...</td>\n",
       "      <td>6831297085137095942</td>\n",
       "      <td>1592769338</td>\n",
       "      <td>7</td>\n",
       "      <td>1</td>\n",
       "      <td>hammyyyyyyy.x</td>\n",
       "      <td>🌴</td>\n",
       "      <td>False</td>\n",
       "      <td>en</td>\n",
       "      <td>venmo: @kiki-xxxx</td>\n",
       "      <td>NaN</td>\n",
       "      <td>6838797400569103366</td>\n",
       "      <td>MS4wLjABAAAAyWXHXgenGB6utXDz2snBw22s5Zn1bzlMgd...</td>\n",
       "      <td>https://p16-sign-va.tiktokcdn.com/musically-ma...</td>\n",
       "      <td>US</td>\n",
       "      <td>NaN</td>\n",
       "      <td>NaN</td>\n",
       "      <td>NaN</td>\n",
       "      <td>NaN</td>\n",
       "    </tr>\n",
       "  </tbody>\n",
       "</table>\n",
       "<p>165110 rows × 20 columns</p>\n",
       "</div>"
      ],
      "text/plain": [
       "                 comment_id  \\\n",
       "0       6816879848683438085   \n",
       "1       6816846992812015622   \n",
       "2       6816942564911628294   \n",
       "3       6816824764519301125   \n",
       "4       6816821633249001477   \n",
       "...                     ...   \n",
       "165105  6831297427954581509   \n",
       "165106  6831297361822711814   \n",
       "165107  6831297275164868613   \n",
       "165108  6842810518533652485   \n",
       "165109  6840892206023950342   \n",
       "\n",
       "                                                     text  \\\n",
       "0       But are you giving him a Tesla? Because he des...   \n",
       "1                   David was just hoping for some help 😢   \n",
       "2       We ain’t forgot that time he tricked us all in...   \n",
       "3                                         get him a tesla   \n",
       "4                                        david ur so hung   \n",
       "...                                                   ...   \n",
       "165105                                      Sup I’m early   \n",
       "165106                                                 ￼￼   \n",
       "165107                                             Ayeeee   \n",
       "165108             neta yo lo tuve pero no sabia jajaja 😂   \n",
       "165109  @daviddobrik I’m so sorry for the bother i kno...   \n",
       "\n",
       "                   video_id  create_time  like_count  status  \\\n",
       "0       6816821384652557574   1587178528         161       1   \n",
       "1       6816821384652557574   1587170875        1165       1   \n",
       "2       6816821384652557574   1587193131         249       1   \n",
       "3       6816821384652557574   1587165700        4038       1   \n",
       "4       6816821384652557574   1587164971         100       1   \n",
       "...                     ...          ...         ...     ...   \n",
       "165105  6831297085137095942   1590535380           8       1   \n",
       "165106  6831297085137095942   1590535364           8       1   \n",
       "165107  6831297085137095942   1590535344           8       1   \n",
       "165108  6831297085137095942   1593215979           7       1   \n",
       "165109  6831297085137095942   1592769338           7       1   \n",
       "\n",
       "          author.unique_id              author.nickname  author.is_private  \\\n",
       "0             lissettecalv  Lissette | Influencer Coach              False   \n",
       "1         hellomyfriend0_o               Isaac micallef               True   \n",
       "2            briancarrion_                 Briancarrion              False   \n",
       "3             slumpgodkayy          kaykay the slumpgod              False   \n",
       "4                    _4den                          dad              False   \n",
       "...                    ...                          ...                ...   \n",
       "165105          dylannn_44                        Dylan              False   \n",
       "165106   bartaintnosimpson                       Swervz              False   \n",
       "165107     glock23likemike                      CookieS               True   \n",
       "165108  cristophercastell5       Cristopher Castellanos              False   \n",
       "165109       hammyyyyyyy.x                            🌴              False   \n",
       "\n",
       "       author.language                                   author.signature  \\\n",
       "0                   en  How to BUILD & MONETIZE a digital biz with pur...   \n",
       "1                   en                   In bed watching Tiktok video's 😴   \n",
       "2                   en                    Might make you cringe 🤷🏽‍♂️\\n🇻🇪   \n",
       "3                   en            👻:@ kaykayyishere\\nfollow my instagram💖   \n",
       "4                   en                                   x kinda fell off   \n",
       "...                ...                                                ...   \n",
       "165105              en                     Idk why I’m one this app still   \n",
       "165106              en                                              16 🇵🇱   \n",
       "165107              en                                                NaN   \n",
       "165108              es                                                NaN   \n",
       "165109              en                                  venmo: @kiki-xxxx   \n",
       "\n",
       "       author.custom_verify           author.uid  \\\n",
       "0          Verified account   133202372536832000   \n",
       "1                       NaN  6744596691107824645   \n",
       "2          Verified account              2165547   \n",
       "3                       NaN  6586423495932313605   \n",
       "4                       NaN  6740418744587650054   \n",
       "...                     ...                  ...   \n",
       "165105                  NaN  6791792671733138438   \n",
       "165106                  NaN  6609698955666849798   \n",
       "165107                  NaN  6722284375361356805   \n",
       "165108                  NaN  6595585779418103813   \n",
       "165109                  NaN  6838797400569103366   \n",
       "\n",
       "                                           author.sec_uid  \\\n",
       "0       MS4wLjABAAAAbX7SywQS04x1ilOoKHrpTZqhQ6lD32nRC6...   \n",
       "1       MS4wLjABAAAADslkcxnt1mqt2oQwQEK8d0ybBHPuCO-geV...   \n",
       "2       MS4wLjABAAAAKH09hef-gLcTyrzYygfGHMazAhFaLMML7-...   \n",
       "3       MS4wLjABAAAAI1dyIIb3qlBf3LhqS3-OJITdYuc3OcWlsd...   \n",
       "4       MS4wLjABAAAAykXQ0pVI4w-y3kI1omvYzOH2xnJN0iP3lf...   \n",
       "...                                                   ...   \n",
       "165105  MS4wLjABAAAAmFpqJUMC3x-JSU-6rMppK2lo0woTjbA6zn...   \n",
       "165106  MS4wLjABAAAA95jNX3KPhg-W6altflOh1HYrxeJIrAdaw_...   \n",
       "165107  MS4wLjABAAAA65x9QjdnOWJXuZuDyRLUGCg8CICNET5ZYs...   \n",
       "165108  MS4wLjABAAAA_ZjgBAsSdGxZ4NVWoV3iZTWelmkqFygkM-...   \n",
       "165109  MS4wLjABAAAAyWXHXgenGB6utXDz2snBw22s5Zn1bzlMgd...   \n",
       "\n",
       "                                      author.avatar_thumb author.region  \\\n",
       "0       https://p77-sign-sg.tiktokcdn.com/musically-ma...            US   \n",
       "1       https://p77-sign-sg.tiktokcdn.com/musically-ma...            MT   \n",
       "2       https://p16-sign-sg.tiktokcdn.com/musically-ma...            US   \n",
       "3       https://p16-sign-sg.tiktokcdn.com/musically-ma...            US   \n",
       "4       https://p77-sign-sg.tiktokcdn.com/tos-maliva-a...            US   \n",
       "...                                                   ...           ...   \n",
       "165105  https://p16-sign-va.tiktokcdn.com/tos-maliva-a...            US   \n",
       "165106  https://p16-sign-va.tiktokcdn.com/musically-ma...            GB   \n",
       "165107  https://p16-sign-va.tiktokcdn.com/tos-maliva-a...            US   \n",
       "165108  https://p16-sign-va.tiktokcdn.com/musically-ma...            US   \n",
       "165109  https://p16-sign-va.tiktokcdn.com/musically-ma...            US   \n",
       "\n",
       "         author.ins_id author.youtube_channel_title author.youtube_channel_id  \\\n",
       "0         lissettecalv                          NaN                       NaN   \n",
       "1                  NaN                          NaN                       NaN   \n",
       "2       brian.carrion_                          NaN                       NaN   \n",
       "3          kaylemraley                          NaN                       NaN   \n",
       "4                _4den                 aden burgess  UCe3pSCjGls_hByctWn91rqw   \n",
       "...                ...                          ...                       ...   \n",
       "165105             NaN                          NaN                       NaN   \n",
       "165106             NaN                       Swervz  UCyIJ9P3_FRuBNwQWTuhitsQ   \n",
       "165107             NaN                          NaN                       NaN   \n",
       "165108             NaN                          NaN                       NaN   \n",
       "165109             NaN                          NaN                       NaN   \n",
       "\n",
       "        author.twitter_id  \n",
       "0                     NaN  \n",
       "1                     NaN  \n",
       "2                     NaN  \n",
       "3                     NaN  \n",
       "4                     NaN  \n",
       "...                   ...  \n",
       "165105                NaN  \n",
       "165106                NaN  \n",
       "165107                NaN  \n",
       "165108                NaN  \n",
       "165109                NaN  \n",
       "\n",
       "[165110 rows x 20 columns]"
      ]
     },
     "execution_count": 8,
     "metadata": {},
     "output_type": "execute_result"
    }
   ],
   "source": [
    "ttc = pd.read_csv(\"final_data.csv\", low_memory=False)\n",
    "ttc"
   ]
  },
  {
   "cell_type": "code",
   "execution_count": 9,
   "id": "c674ae50",
   "metadata": {},
   "outputs": [
    {
     "data": {
      "text/plain": [
       "Index(['comment_id', 'text', 'video_id', 'create_time', 'like_count', 'status',\n",
       "       'author.unique_id', 'author.nickname', 'author.is_private',\n",
       "       'author.language', 'author.signature', 'author.custom_verify',\n",
       "       'author.uid', 'author.sec_uid', 'author.avatar_thumb', 'author.region',\n",
       "       'author.ins_id', 'author.youtube_channel_title',\n",
       "       'author.youtube_channel_id', 'author.twitter_id'],\n",
       "      dtype='object')"
      ]
     },
     "execution_count": 9,
     "metadata": {},
     "output_type": "execute_result"
    }
   ],
   "source": [
    "ttc.columns"
   ]
  },
  {
   "cell_type": "code",
   "execution_count": 10,
   "id": "825b7fc1",
   "metadata": {},
   "outputs": [],
   "source": [
    "ttc = ttc.drop(['comment_id', 'text', 'video_id', 'create_time',\n",
    "       'author.unique_id', 'author.nickname', 'author.is_private',\n",
    "       'author.language', 'author.signature', 'author.custom_verify',\n",
    "       'author.uid', 'author.sec_uid', 'author.avatar_thumb', 'author.region',\n",
    "       'author.ins_id', 'author.youtube_channel_title',\n",
    "       'author.youtube_channel_id', 'author.twitter_id'], axis=1)"
   ]
  },
  {
   "cell_type": "code",
   "execution_count": 11,
   "id": "018f87a2",
   "metadata": {},
   "outputs": [
    {
     "data": {
      "text/plain": [
       "(165110, 2)"
      ]
     },
     "execution_count": 11,
     "metadata": {},
     "output_type": "execute_result"
    }
   ],
   "source": [
    "ttc.shape"
   ]
  },
  {
   "cell_type": "code",
   "execution_count": 12,
   "id": "7e689adc",
   "metadata": {},
   "outputs": [
    {
     "data": {
      "text/html": [
       "<div>\n",
       "<style scoped>\n",
       "    .dataframe tbody tr th:only-of-type {\n",
       "        vertical-align: middle;\n",
       "    }\n",
       "\n",
       "    .dataframe tbody tr th {\n",
       "        vertical-align: top;\n",
       "    }\n",
       "\n",
       "    .dataframe thead th {\n",
       "        text-align: right;\n",
       "    }\n",
       "</style>\n",
       "<table border=\"1\" class=\"dataframe\">\n",
       "  <thead>\n",
       "    <tr style=\"text-align: right;\">\n",
       "      <th></th>\n",
       "      <th>like_count</th>\n",
       "      <th>status</th>\n",
       "    </tr>\n",
       "  </thead>\n",
       "  <tbody>\n",
       "    <tr>\n",
       "      <th>count</th>\n",
       "      <td>165110.000000</td>\n",
       "      <td>165110.0</td>\n",
       "    </tr>\n",
       "    <tr>\n",
       "      <th>mean</th>\n",
       "      <td>74.972588</td>\n",
       "      <td>1.0</td>\n",
       "    </tr>\n",
       "    <tr>\n",
       "      <th>std</th>\n",
       "      <td>3593.935284</td>\n",
       "      <td>0.0</td>\n",
       "    </tr>\n",
       "    <tr>\n",
       "      <th>min</th>\n",
       "      <td>0.000000</td>\n",
       "      <td>1.0</td>\n",
       "    </tr>\n",
       "    <tr>\n",
       "      <th>25%</th>\n",
       "      <td>0.000000</td>\n",
       "      <td>1.0</td>\n",
       "    </tr>\n",
       "    <tr>\n",
       "      <th>50%</th>\n",
       "      <td>3.000000</td>\n",
       "      <td>1.0</td>\n",
       "    </tr>\n",
       "    <tr>\n",
       "      <th>75%</th>\n",
       "      <td>19.000000</td>\n",
       "      <td>1.0</td>\n",
       "    </tr>\n",
       "    <tr>\n",
       "      <th>max</th>\n",
       "      <td>773983.000000</td>\n",
       "      <td>1.0</td>\n",
       "    </tr>\n",
       "  </tbody>\n",
       "</table>\n",
       "</div>"
      ],
      "text/plain": [
       "          like_count    status\n",
       "count  165110.000000  165110.0\n",
       "mean       74.972588       1.0\n",
       "std      3593.935284       0.0\n",
       "min         0.000000       1.0\n",
       "25%         0.000000       1.0\n",
       "50%         3.000000       1.0\n",
       "75%        19.000000       1.0\n",
       "max    773983.000000       1.0"
      ]
     },
     "execution_count": 12,
     "metadata": {},
     "output_type": "execute_result"
    }
   ],
   "source": [
    "ttc.describe()"
   ]
  },
  {
   "cell_type": "markdown",
   "id": "a83cdadb",
   "metadata": {},
   "source": [
    "#### Mean, Min, Max"
   ]
  },
  {
   "cell_type": "code",
   "execution_count": 13,
   "id": "d1e84ac6",
   "metadata": {},
   "outputs": [
    {
     "data": {
      "text/plain": [
       "74.97258797165526"
      ]
     },
     "execution_count": 13,
     "metadata": {},
     "output_type": "execute_result"
    }
   ],
   "source": [
    "like_count_num = ttc['like_count'].mean()\n",
    "like_count_num"
   ]
  },
  {
   "cell_type": "code",
   "execution_count": 14,
   "id": "6e22b20f",
   "metadata": {},
   "outputs": [
    {
     "data": {
      "text/plain": [
       "0"
      ]
     },
     "execution_count": 14,
     "metadata": {},
     "output_type": "execute_result"
    }
   ],
   "source": [
    "min_like_count_num = ttc['like_count'].min()\n",
    "min_like_count_num"
   ]
  },
  {
   "cell_type": "code",
   "execution_count": 15,
   "id": "82fc89df",
   "metadata": {},
   "outputs": [
    {
     "data": {
      "text/plain": [
       "773983"
      ]
     },
     "execution_count": 15,
     "metadata": {},
     "output_type": "execute_result"
    }
   ],
   "source": [
    "max_like_count_num = ttc['like_count'].max()\n",
    "max_like_count_num"
   ]
  },
  {
   "cell_type": "code",
   "execution_count": 16,
   "id": "fb75a400",
   "metadata": {},
   "outputs": [
    {
     "data": {
      "text/plain": [
       "1"
      ]
     },
     "execution_count": 16,
     "metadata": {},
     "output_type": "execute_result"
    }
   ],
   "source": [
    "min_status_num = ttc['status'].min()\n",
    "min_status_num"
   ]
  },
  {
   "cell_type": "code",
   "execution_count": 17,
   "id": "8b569538",
   "metadata": {},
   "outputs": [
    {
     "data": {
      "text/plain": [
       "1"
      ]
     },
     "execution_count": 17,
     "metadata": {},
     "output_type": "execute_result"
    }
   ],
   "source": [
    "max_status_num = ttc['status'].max()\n",
    "max_status_num"
   ]
  },
  {
   "cell_type": "markdown",
   "id": "ea15c335",
   "metadata": {},
   "source": [
    "#### Range"
   ]
  },
  {
   "cell_type": "code",
   "execution_count": 18,
   "id": "c9c43a85",
   "metadata": {},
   "outputs": [
    {
     "data": {
      "text/plain": [
       "773983"
      ]
     },
     "execution_count": 18,
     "metadata": {},
     "output_type": "execute_result"
    }
   ],
   "source": [
    "range_of_likes = max_like_count_num - min_like_count_num\n",
    "range_of_likes"
   ]
  },
  {
   "cell_type": "code",
   "execution_count": 19,
   "id": "a843ae1f",
   "metadata": {},
   "outputs": [
    {
     "data": {
      "text/plain": [
       "0"
      ]
     },
     "execution_count": 19,
     "metadata": {},
     "output_type": "execute_result"
    }
   ],
   "source": [
    "range_of_status = max_status_num - min_status_num\n",
    "range_of_status"
   ]
  },
  {
   "cell_type": "markdown",
   "id": "6e5441b0",
   "metadata": {},
   "source": [
    "#### Mean"
   ]
  },
  {
   "cell_type": "code",
   "execution_count": 20,
   "id": "60b0c3fd",
   "metadata": {},
   "outputs": [],
   "source": [
    "likes_mean = ttc['like_count'].mean()\n",
    "status_mean = ttc['status'].mean()"
   ]
  },
  {
   "cell_type": "markdown",
   "id": "e26f431f",
   "metadata": {},
   "source": [
    "#### Median"
   ]
  },
  {
   "cell_type": "code",
   "execution_count": 21,
   "id": "b7bcbd7c",
   "metadata": {},
   "outputs": [
    {
     "data": {
      "text/plain": [
       "3.0"
      ]
     },
     "execution_count": 21,
     "metadata": {},
     "output_type": "execute_result"
    }
   ],
   "source": [
    "likes_median = ttc['like_count'].median()\n",
    "likes_median"
   ]
  },
  {
   "cell_type": "code",
   "execution_count": 22,
   "id": "697a9bdc",
   "metadata": {},
   "outputs": [
    {
     "data": {
      "text/plain": [
       "1.0"
      ]
     },
     "execution_count": 22,
     "metadata": {},
     "output_type": "execute_result"
    }
   ],
   "source": [
    "status_median = ttc['status'].median()\n",
    "status_median"
   ]
  },
  {
   "cell_type": "code",
   "execution_count": 23,
   "id": "308f2404",
   "metadata": {},
   "outputs": [
    {
     "data": {
      "text/plain": [
       "<matplotlib.legend.Legend at 0x24be1b19de0>"
      ]
     },
     "execution_count": 23,
     "metadata": {},
     "output_type": "execute_result"
    },
    {
     "data": {
      "image/png": "[encoded data removed]",
      "text/plain": [
       "<Figure size 864x576 with 1 Axes>"
      ]
     },
     "metadata": {
      "needs_background": "light"
     },
     "output_type": "display_data"
    }
   ],
   "source": [
    "plt.figure(figsize=(12,8))\n",
    "ttc['like_count'].hist(bins=30)\n",
    "plt.axvline(likes_mean, color='r', label='mean')\n",
    "plt.legend()"
   ]
  },
  {
   "cell_type": "code",
   "execution_count": 24,
   "id": "df1fbc47",
   "metadata": {},
   "outputs": [
    {
     "data": {
      "text/plain": [
       "<matplotlib.legend.Legend at 0x24bdf55d810>"
      ]
     },
     "execution_count": 24,
     "metadata": {},
     "output_type": "execute_result"
    },
    {
     "data": {
      "image/png": "[encoded data removed]",
      "text/plain": [
       "<Figure size 864x576 with 1 Axes>"
      ]
     },
     "metadata": {
      "needs_background": "light"
     },
     "output_type": "display_data"
    }
   ],
   "source": [
    "plt.figure(figsize=(12,8))\n",
    "ttc['like_count'].hist(bins=30)\n",
    "plt.axvline(likes_mean, color='g', label='median')\n",
    "plt.legend()"
   ]
  },
  {
   "cell_type": "markdown",
   "id": "b891ee28",
   "metadata": {},
   "source": [
    "#### Calculating Variance"
   ]
  },
  {
   "cell_type": "code",
   "execution_count": 26,
   "id": "2da20a7d",
   "metadata": {},
   "outputs": [
    {
     "data": {
      "text/plain": [
       "12916370.823613083"
      ]
     },
     "execution_count": 26,
     "metadata": {},
     "output_type": "execute_result"
    }
   ],
   "source": [
    "ttc['like_count'].var()"
   ]
  },
  {
   "cell_type": "code",
   "execution_count": 27,
   "id": "8b3be6c7",
   "metadata": {},
   "outputs": [
    {
     "data": {
      "text/plain": [
       "0.0"
      ]
     },
     "execution_count": 27,
     "metadata": {},
     "output_type": "execute_result"
    }
   ],
   "source": [
    "ttc['status'].var()"
   ]
  },
  {
   "cell_type": "markdown",
   "id": "4a1ec590",
   "metadata": {},
   "source": [
    "#### Standard Deviation"
   ]
  },
  {
   "cell_type": "code",
   "execution_count": 28,
   "id": "8486ed6b",
   "metadata": {},
   "outputs": [
    {
     "data": {
      "text/plain": [
       "3593.9352837263336"
      ]
     },
     "execution_count": 28,
     "metadata": {},
     "output_type": "execute_result"
    }
   ],
   "source": [
    "ttc['like_count'].std()"
   ]
  },
  {
   "cell_type": "code",
   "execution_count": 29,
   "id": "5440ab3a",
   "metadata": {},
   "outputs": [
    {
     "data": {
      "text/plain": [
       "0.0"
      ]
     },
     "execution_count": 29,
     "metadata": {},
     "output_type": "execute_result"
    }
   ],
   "source": [
    "ttc['status'].std()"
   ]
  },
  {
   "cell_type": "code",
   "execution_count": 30,
   "id": "682cde90",
   "metadata": {},
   "outputs": [
    {
     "data": {
      "text/html": [
       "<div>\n",
       "<style scoped>\n",
       "    .dataframe tbody tr th:only-of-type {\n",
       "        vertical-align: middle;\n",
       "    }\n",
       "\n",
       "    .dataframe tbody tr th {\n",
       "        vertical-align: top;\n",
       "    }\n",
       "\n",
       "    .dataframe thead th {\n",
       "        text-align: right;\n",
       "    }\n",
       "</style>\n",
       "<table border=\"1\" class=\"dataframe\">\n",
       "  <thead>\n",
       "    <tr style=\"text-align: right;\">\n",
       "      <th></th>\n",
       "      <th>like_count</th>\n",
       "      <th>status</th>\n",
       "    </tr>\n",
       "  </thead>\n",
       "  <tbody>\n",
       "    <tr>\n",
       "      <th>count</th>\n",
       "      <td>165110.000000</td>\n",
       "      <td>165110.0</td>\n",
       "    </tr>\n",
       "    <tr>\n",
       "      <th>mean</th>\n",
       "      <td>74.972588</td>\n",
       "      <td>1.0</td>\n",
       "    </tr>\n",
       "    <tr>\n",
       "      <th>std</th>\n",
       "      <td>3593.935284</td>\n",
       "      <td>0.0</td>\n",
       "    </tr>\n",
       "    <tr>\n",
       "      <th>min</th>\n",
       "      <td>0.000000</td>\n",
       "      <td>1.0</td>\n",
       "    </tr>\n",
       "    <tr>\n",
       "      <th>25%</th>\n",
       "      <td>0.000000</td>\n",
       "      <td>1.0</td>\n",
       "    </tr>\n",
       "    <tr>\n",
       "      <th>50%</th>\n",
       "      <td>3.000000</td>\n",
       "      <td>1.0</td>\n",
       "    </tr>\n",
       "    <tr>\n",
       "      <th>75%</th>\n",
       "      <td>19.000000</td>\n",
       "      <td>1.0</td>\n",
       "    </tr>\n",
       "    <tr>\n",
       "      <th>max</th>\n",
       "      <td>773983.000000</td>\n",
       "      <td>1.0</td>\n",
       "    </tr>\n",
       "  </tbody>\n",
       "</table>\n",
       "</div>"
      ],
      "text/plain": [
       "          like_count    status\n",
       "count  165110.000000  165110.0\n",
       "mean       74.972588       1.0\n",
       "std      3593.935284       0.0\n",
       "min         0.000000       1.0\n",
       "25%         0.000000       1.0\n",
       "50%         3.000000       1.0\n",
       "75%        19.000000       1.0\n",
       "max    773983.000000       1.0"
      ]
     },
     "execution_count": 30,
     "metadata": {},
     "output_type": "execute_result"
    }
   ],
   "source": [
    "ttc.describe()"
   ]
  },
  {
   "cell_type": "markdown",
   "id": "763a1d44",
   "metadata": {},
   "source": [
    "#### Univariate Analysis"
   ]
  },
  {
   "cell_type": "code",
   "execution_count": 31,
   "id": "50e8e336",
   "metadata": {},
   "outputs": [
    {
     "name": "stderr",
     "output_type": "stream",
     "text": [
      "C:\\Users\\molly\\Desktop\\devMountain\\specializations\\week-11\\stats-report\\env\\lib\\site-packages\\seaborn\\_decorators.py:36: FutureWarning: Pass the following variable as a keyword arg: x. From version 0.12, the only valid positional argument will be `data`, and passing other arguments without an explicit keyword will result in an error or misinterpretation.\n",
      "  warnings.warn(\n"
     ]
    },
    {
     "data": {
      "image/png": "[encoded data removed]",
      "text/plain": [
       "<Figure size 432x288 with 1 Axes>"
      ]
     },
     "metadata": {
      "needs_background": "light"
     },
     "output_type": "display_data"
    }
   ],
   "source": [
    "sns.countplot(ttc['like_count'])\n",
    "plt.show()"
   ]
  },
  {
   "cell_type": "code",
   "execution_count": 32,
   "id": "13b4f8bd",
   "metadata": {},
   "outputs": [
    {
     "data": {
      "text/plain": [
       "0     161\n",
       "1    1165\n",
       "2     249\n",
       "3    4038\n",
       "4     100\n",
       "Name: like_count, dtype: int64"
      ]
     },
     "execution_count": 32,
     "metadata": {},
     "output_type": "execute_result"
    }
   ],
   "source": [
    "likes = ttc['like_count']\n",
    "likes.head()"
   ]
  },
  {
   "cell_type": "markdown",
   "id": "54db6a3b",
   "metadata": {},
   "source": [
    "#### Histogram-plot"
   ]
  },
  {
   "cell_type": "code",
   "execution_count": 33,
   "id": "c9739635",
   "metadata": {},
   "outputs": [
    {
     "data": {
      "text/plain": [
       "<AxesSubplot:title={'center':'Like Count Histogram'}, ylabel='Frequency'>"
      ]
     },
     "execution_count": 33,
     "metadata": {},
     "output_type": "execute_result"
    },
    {
     "data": {
      "image/png": "[encoded data removed]",
      "text/plain": [
       "<Figure size 864x576 with 1 Axes>"
      ]
     },
     "metadata": {
      "needs_background": "light"
     },
     "output_type": "display_data"
    }
   ],
   "source": [
    "plt.figure(figsize=(12,8))\n",
    "likes.plot(kind='hist',\n",
    "          title='Like Count Histogram')"
   ]
  },
  {
   "cell_type": "markdown",
   "id": "7ff45829",
   "metadata": {},
   "source": [
    "#### Box-plot"
   ]
  },
  {
   "cell_type": "code",
   "execution_count": 34,
   "id": "c9126760",
   "metadata": {},
   "outputs": [
    {
     "data": {
      "text/plain": [
       "<AxesSubplot:title={'center':'Likes Count Box-plot'}>"
      ]
     },
     "execution_count": 34,
     "metadata": {},
     "output_type": "execute_result"
    },
    {
     "data": {
      "image/png": "[encoded data removed]",
      "text/plain": [
       "<Figure size 864x576 with 1 Axes>"
      ]
     },
     "metadata": {
      "needs_background": "light"
     },
     "output_type": "display_data"
    }
   ],
   "source": [
    "plt.figure(figsize=(12,8))\n",
    "likes.plot(kind='box',\n",
    "          title='Likes Count Box-plot')"
   ]
  },
  {
   "cell_type": "markdown",
   "id": "d72248cb",
   "metadata": {},
   "source": [
    "#### KDE for likes count"
   ]
  },
  {
   "cell_type": "code",
   "execution_count": 36,
   "id": "a3cf5a8d",
   "metadata": {},
   "outputs": [
    {
     "data": {
      "text/plain": [
       "<AxesSubplot:title={'center':'Likes count KDE'}, ylabel='Density'>"
      ]
     },
     "execution_count": 36,
     "metadata": {},
     "output_type": "execute_result"
    },
    {
     "data": {
      "image/png": "[encoded data removed]",
      "text/plain": [
       "<Figure size 864x576 with 1 Axes>"
      ]
     },
     "metadata": {
      "needs_background": "light"
     },
     "output_type": "display_data"
    }
   ],
   "source": [
    "likes.plot(kind= 'kde',\n",
    "          title= 'Likes count KDE', figsize=(12,8))"
   ]
  },
  {
   "cell_type": "markdown",
   "id": "6f42ef26",
   "metadata": {},
   "source": [
    "#### Skewness and Kurtosis"
   ]
  },
  {
   "cell_type": "code",
   "execution_count": 37,
   "id": "cf73242f",
   "metadata": {},
   "outputs": [
    {
     "data": {
      "text/plain": [
       "141.37139302959648"
      ]
     },
     "execution_count": 37,
     "metadata": {},
     "output_type": "execute_result"
    }
   ],
   "source": [
    "ttc['like_count'].skew()"
   ]
  },
  {
   "cell_type": "code",
   "execution_count": 38,
   "id": "11e9f394",
   "metadata": {},
   "outputs": [
    {
     "data": {
      "text/plain": [
       "0"
      ]
     },
     "execution_count": 38,
     "metadata": {},
     "output_type": "execute_result"
    }
   ],
   "source": [
    "ttc['status'].skew()"
   ]
  },
  {
   "cell_type": "code",
   "execution_count": 39,
   "id": "c692accf",
   "metadata": {},
   "outputs": [
    {
     "data": {
      "text/plain": [
       "25015.199277906577"
      ]
     },
     "execution_count": 39,
     "metadata": {},
     "output_type": "execute_result"
    }
   ],
   "source": [
    "ttc['like_count'].kurtosis()"
   ]
  },
  {
   "cell_type": "code",
   "execution_count": 40,
   "id": "9f50ca8a",
   "metadata": {},
   "outputs": [
    {
     "data": {
      "text/plain": [
       "0"
      ]
     },
     "execution_count": 40,
     "metadata": {},
     "output_type": "execute_result"
    }
   ],
   "source": [
    "ttc['status'].kurtosis()"
   ]
  },
  {
   "cell_type": "markdown",
   "id": "9dc179f8",
   "metadata": {},
   "source": [
    "#### Covariance"
   ]
  },
  {
   "cell_type": "code",
   "execution_count": 42,
   "id": "320692f8",
   "metadata": {},
   "outputs": [
    {
     "data": {
      "text/html": [
       "<div>\n",
       "<style scoped>\n",
       "    .dataframe tbody tr th:only-of-type {\n",
       "        vertical-align: middle;\n",
       "    }\n",
       "\n",
       "    .dataframe tbody tr th {\n",
       "        vertical-align: top;\n",
       "    }\n",
       "\n",
       "    .dataframe thead th {\n",
       "        text-align: right;\n",
       "    }\n",
       "</style>\n",
       "<table border=\"1\" class=\"dataframe\">\n",
       "  <thead>\n",
       "    <tr style=\"text-align: right;\">\n",
       "      <th></th>\n",
       "      <th>like_count</th>\n",
       "      <th>status</th>\n",
       "    </tr>\n",
       "  </thead>\n",
       "  <tbody>\n",
       "    <tr>\n",
       "      <th>like_count</th>\n",
       "      <td>1.291637e+07</td>\n",
       "      <td>0.0</td>\n",
       "    </tr>\n",
       "    <tr>\n",
       "      <th>status</th>\n",
       "      <td>0.000000e+00</td>\n",
       "      <td>0.0</td>\n",
       "    </tr>\n",
       "  </tbody>\n",
       "</table>\n",
       "</div>"
      ],
      "text/plain": [
       "              like_count  status\n",
       "like_count  1.291637e+07     0.0\n",
       "status      0.000000e+00     0.0"
      ]
     },
     "execution_count": 42,
     "metadata": {},
     "output_type": "execute_result"
    }
   ],
   "source": [
    "ttc_cov = ttc.cov()\n",
    "ttc_cov"
   ]
  },
  {
   "cell_type": "markdown",
   "id": "3d1ca338",
   "metadata": {},
   "source": [
    "#### Correlation"
   ]
  },
  {
   "cell_type": "code",
   "execution_count": 43,
   "id": "951aa7cc",
   "metadata": {},
   "outputs": [
    {
     "data": {
      "text/html": [
       "<div>\n",
       "<style scoped>\n",
       "    .dataframe tbody tr th:only-of-type {\n",
       "        vertical-align: middle;\n",
       "    }\n",
       "\n",
       "    .dataframe tbody tr th {\n",
       "        vertical-align: top;\n",
       "    }\n",
       "\n",
       "    .dataframe thead th {\n",
       "        text-align: right;\n",
       "    }\n",
       "</style>\n",
       "<table border=\"1\" class=\"dataframe\">\n",
       "  <thead>\n",
       "    <tr style=\"text-align: right;\">\n",
       "      <th></th>\n",
       "      <th>like_count</th>\n",
       "      <th>status</th>\n",
       "    </tr>\n",
       "  </thead>\n",
       "  <tbody>\n",
       "    <tr>\n",
       "      <th>like_count</th>\n",
       "      <td>1.0</td>\n",
       "      <td>NaN</td>\n",
       "    </tr>\n",
       "    <tr>\n",
       "      <th>status</th>\n",
       "      <td>NaN</td>\n",
       "      <td>NaN</td>\n",
       "    </tr>\n",
       "  </tbody>\n",
       "</table>\n",
       "</div>"
      ],
      "text/plain": [
       "            like_count  status\n",
       "like_count         1.0     NaN\n",
       "status             NaN     NaN"
      ]
     },
     "execution_count": 43,
     "metadata": {},
     "output_type": "execute_result"
    }
   ],
   "source": [
    "likes_corr = ttc.corr()\n",
    "likes_corr"
   ]
  },
  {
   "cell_type": "markdown",
   "id": "c135406c",
   "metadata": {},
   "source": [
    "#### Skewness and Kurtosis with scipy"
   ]
  },
  {
   "cell_type": "code",
   "execution_count": 45,
   "id": "97d34ae9",
   "metadata": {},
   "outputs": [
    {
     "name": "stderr",
     "output_type": "stream",
     "text": [
      "C:\\Users\\molly\\Desktop\\devMountain\\specializations\\week-11\\stats-report\\env\\lib\\site-packages\\statsmodels\\compat\\pandas.py:65: FutureWarning: pandas.Int64Index is deprecated and will be removed from pandas in a future version. Use pandas.Index with the appropriate dtype instead.\n",
      "  from pandas import Int64Index as NumericIndex\n"
     ]
    }
   ],
   "source": [
    "import scipy\n",
    "import statsmodels\n",
    "from scipy import stats\n",
    "from statsmodels.stats.weightstats import DescrStatsW\n",
    "from scipy.stats import norm\n",
    "from pandas.plotting import register_matplotlib_converters\n",
    "register_matplotlib_converters()"
   ]
  },
  {
   "cell_type": "code",
   "execution_count": 46,
   "id": "37bec84f",
   "metadata": {},
   "outputs": [
    {
     "data": {
      "text/plain": [
       "141.37010868809872"
      ]
     },
     "execution_count": 46,
     "metadata": {},
     "output_type": "execute_result"
    }
   ],
   "source": [
    "stats.skew(ttc['like_count'])"
   ]
  },
  {
   "cell_type": "code",
   "execution_count": 47,
   "id": "5d8ac24e",
   "metadata": {},
   "outputs": [
    {
     "data": {
      "text/plain": [
       "25014.44171666974"
      ]
     },
     "execution_count": 47,
     "metadata": {},
     "output_type": "execute_result"
    }
   ],
   "source": [
    "stats.kurtosis(ttc['like_count'])"
   ]
  },
  {
   "cell_type": "code",
   "execution_count": 48,
   "id": "c43a1f7f",
   "metadata": {},
   "outputs": [
    {
     "data": {
      "text/plain": [
       "0.0"
      ]
     },
     "execution_count": 48,
     "metadata": {},
     "output_type": "execute_result"
    }
   ],
   "source": [
    "stats.skew(ttc['status'])"
   ]
  },
  {
   "cell_type": "code",
   "execution_count": 49,
   "id": "ae14b208",
   "metadata": {},
   "outputs": [
    {
     "data": {
      "text/plain": [
       "-3.0"
      ]
     },
     "execution_count": 49,
     "metadata": {},
     "output_type": "execute_result"
    }
   ],
   "source": [
    "stats.kurtosis(ttc['status'])"
   ]
  }
 ],
 "metadata": {
  "kernelspec": {
   "display_name": "Python 3 (ipykernel)",
   "language": "python",
   "name": "python3"
  },
  "language_info": {
   "codemirror_mode": {
    "name": "ipython",
    "version": 3
   },
   "file_extension": ".py",
   "mimetype": "text/x-python",
   "name": "python",
   "nbconvert_exporter": "python",
   "pygments_lexer": "ipython3",
   "version": "3.10.1"
  }
 },
 "nbformat": 4,
 "nbformat_minor": 5
}
