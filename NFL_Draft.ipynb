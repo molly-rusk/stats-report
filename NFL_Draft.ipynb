{
 "cells": [
  {
   "cell_type": "code",
   "execution_count": 2,
   "id": "a712bb9a",
   "metadata": {},
   "outputs": [],
   "source": [
    "import pandas as pd\n",
    "import matplotlib \n",
    "import numpy as np\n",
    "import seaborn as sns\n",
    "import matplotlib.pyplot as plt\n",
    "import scipy\n",
    "import statsmodels\n",
    "from scipy import stats\n",
    "from statsmodels.stats.weightstats import DescrStatsW\n",
    "from scipy.stats import norm\n",
    "from pandas.plotting import register_matplotlib_converters\n",
    "register_matplotlib_converters()\n",
    "from statsmodels.stats import stattools"
   ]
  },
  {
   "cell_type": "code",
   "execution_count": 4,
   "id": "67373f67",
   "metadata": {
    "scrolled": true
   },
   "outputs": [
    {
     "data": {
      "text/html": [
       "<div>\n",
       "<style scoped>\n",
       "    .dataframe tbody tr th:only-of-type {\n",
       "        vertical-align: middle;\n",
       "    }\n",
       "\n",
       "    .dataframe tbody tr th {\n",
       "        vertical-align: top;\n",
       "    }\n",
       "\n",
       "    .dataframe thead th {\n",
       "        text-align: right;\n",
       "    }\n",
       "</style>\n",
       "<table border=\"1\" class=\"dataframe\">\n",
       "  <thead>\n",
       "    <tr style=\"text-align: right;\">\n",
       "      <th></th>\n",
       "      <th>Unnamed: 0</th>\n",
       "      <th>Rnd</th>\n",
       "      <th>Pick</th>\n",
       "      <th>Tm</th>\n",
       "      <th>Player</th>\n",
       "      <th>Pos</th>\n",
       "      <th>Age</th>\n",
       "      <th>To</th>\n",
       "      <th>AP1</th>\n",
       "      <th>PB</th>\n",
       "      <th>...</th>\n",
       "      <th>Yds.1</th>\n",
       "      <th>TD.1</th>\n",
       "      <th>Rec</th>\n",
       "      <th>Yds.2</th>\n",
       "      <th>TD.2</th>\n",
       "      <th>Tkl</th>\n",
       "      <th>Int.1</th>\n",
       "      <th>Sk</th>\n",
       "      <th>College/Univ</th>\n",
       "      <th>Year</th>\n",
       "    </tr>\n",
       "  </thead>\n",
       "  <tbody>\n",
       "    <tr>\n",
       "      <th>0</th>\n",
       "      <td>0</td>\n",
       "      <td>1</td>\n",
       "      <td>1</td>\n",
       "      <td>PIT</td>\n",
       "      <td>Terry Bradshaw</td>\n",
       "      <td>QB</td>\n",
       "      <td>22.0</td>\n",
       "      <td>1983.0</td>\n",
       "      <td>1</td>\n",
       "      <td>3</td>\n",
       "      <td>...</td>\n",
       "      <td>2257.0</td>\n",
       "      <td>32.0</td>\n",
       "      <td>0.0</td>\n",
       "      <td>1.0</td>\n",
       "      <td>0.0</td>\n",
       "      <td>NaN</td>\n",
       "      <td>NaN</td>\n",
       "      <td>NaN</td>\n",
       "      <td>Louisiana Tech</td>\n",
       "      <td>1970</td>\n",
       "    </tr>\n",
       "    <tr>\n",
       "      <th>1</th>\n",
       "      <td>1</td>\n",
       "      <td>1</td>\n",
       "      <td>2</td>\n",
       "      <td>GNB</td>\n",
       "      <td>Mike McCoy</td>\n",
       "      <td>DT</td>\n",
       "      <td>22.0</td>\n",
       "      <td>1980.0</td>\n",
       "      <td>0</td>\n",
       "      <td>0</td>\n",
       "      <td>...</td>\n",
       "      <td>NaN</td>\n",
       "      <td>NaN</td>\n",
       "      <td>NaN</td>\n",
       "      <td>NaN</td>\n",
       "      <td>NaN</td>\n",
       "      <td>NaN</td>\n",
       "      <td>1.0</td>\n",
       "      <td>NaN</td>\n",
       "      <td>Notre Dame</td>\n",
       "      <td>1970</td>\n",
       "    </tr>\n",
       "    <tr>\n",
       "      <th>2</th>\n",
       "      <td>2</td>\n",
       "      <td>1</td>\n",
       "      <td>3</td>\n",
       "      <td>CLE</td>\n",
       "      <td>Mike Phipps</td>\n",
       "      <td>QB</td>\n",
       "      <td>22.0</td>\n",
       "      <td>1981.0</td>\n",
       "      <td>0</td>\n",
       "      <td>0</td>\n",
       "      <td>...</td>\n",
       "      <td>1278.0</td>\n",
       "      <td>13.0</td>\n",
       "      <td>NaN</td>\n",
       "      <td>NaN</td>\n",
       "      <td>NaN</td>\n",
       "      <td>NaN</td>\n",
       "      <td>NaN</td>\n",
       "      <td>NaN</td>\n",
       "      <td>Purdue</td>\n",
       "      <td>1970</td>\n",
       "    </tr>\n",
       "    <tr>\n",
       "      <th>3</th>\n",
       "      <td>3</td>\n",
       "      <td>1</td>\n",
       "      <td>4</td>\n",
       "      <td>BOS</td>\n",
       "      <td>Phil Olsen</td>\n",
       "      <td>DT</td>\n",
       "      <td>22.0</td>\n",
       "      <td>1976.0</td>\n",
       "      <td>0</td>\n",
       "      <td>0</td>\n",
       "      <td>...</td>\n",
       "      <td>NaN</td>\n",
       "      <td>NaN</td>\n",
       "      <td>NaN</td>\n",
       "      <td>NaN</td>\n",
       "      <td>NaN</td>\n",
       "      <td>NaN</td>\n",
       "      <td>NaN</td>\n",
       "      <td>NaN</td>\n",
       "      <td>Utah St.</td>\n",
       "      <td>1970</td>\n",
       "    </tr>\n",
       "    <tr>\n",
       "      <th>4</th>\n",
       "      <td>4</td>\n",
       "      <td>1</td>\n",
       "      <td>5</td>\n",
       "      <td>BUF</td>\n",
       "      <td>Al Cowlings</td>\n",
       "      <td>DE</td>\n",
       "      <td>23.0</td>\n",
       "      <td>1979.0</td>\n",
       "      <td>0</td>\n",
       "      <td>0</td>\n",
       "      <td>...</td>\n",
       "      <td>NaN</td>\n",
       "      <td>NaN</td>\n",
       "      <td>NaN</td>\n",
       "      <td>NaN</td>\n",
       "      <td>NaN</td>\n",
       "      <td>NaN</td>\n",
       "      <td>NaN</td>\n",
       "      <td>NaN</td>\n",
       "      <td>USC</td>\n",
       "      <td>1970</td>\n",
       "    </tr>\n",
       "    <tr>\n",
       "      <th>...</th>\n",
       "      <td>...</td>\n",
       "      <td>...</td>\n",
       "      <td>...</td>\n",
       "      <td>...</td>\n",
       "      <td>...</td>\n",
       "      <td>...</td>\n",
       "      <td>...</td>\n",
       "      <td>...</td>\n",
       "      <td>...</td>\n",
       "      <td>...</td>\n",
       "      <td>...</td>\n",
       "      <td>...</td>\n",
       "      <td>...</td>\n",
       "      <td>...</td>\n",
       "      <td>...</td>\n",
       "      <td>...</td>\n",
       "      <td>...</td>\n",
       "      <td>...</td>\n",
       "      <td>...</td>\n",
       "      <td>...</td>\n",
       "      <td>...</td>\n",
       "    </tr>\n",
       "    <tr>\n",
       "      <th>14491</th>\n",
       "      <td>248</td>\n",
       "      <td>7</td>\n",
       "      <td>249</td>\n",
       "      <td>SFO</td>\n",
       "      <td>Prince Charles Iworah</td>\n",
       "      <td>CB</td>\n",
       "      <td>23.0</td>\n",
       "      <td>2016.0</td>\n",
       "      <td>0</td>\n",
       "      <td>0</td>\n",
       "      <td>...</td>\n",
       "      <td>NaN</td>\n",
       "      <td>NaN</td>\n",
       "      <td>NaN</td>\n",
       "      <td>NaN</td>\n",
       "      <td>NaN</td>\n",
       "      <td>NaN</td>\n",
       "      <td>NaN</td>\n",
       "      <td>NaN</td>\n",
       "      <td>West. Kentucky</td>\n",
       "      <td>2016</td>\n",
       "    </tr>\n",
       "    <tr>\n",
       "      <th>14492</th>\n",
       "      <td>249</td>\n",
       "      <td>7</td>\n",
       "      <td>250</td>\n",
       "      <td>CLE</td>\n",
       "      <td>Scooby Wright</td>\n",
       "      <td>ILB</td>\n",
       "      <td>22.0</td>\n",
       "      <td>2016.0</td>\n",
       "      <td>0</td>\n",
       "      <td>0</td>\n",
       "      <td>...</td>\n",
       "      <td>NaN</td>\n",
       "      <td>NaN</td>\n",
       "      <td>NaN</td>\n",
       "      <td>NaN</td>\n",
       "      <td>NaN</td>\n",
       "      <td>NaN</td>\n",
       "      <td>NaN</td>\n",
       "      <td>NaN</td>\n",
       "      <td>Arizona</td>\n",
       "      <td>2016</td>\n",
       "    </tr>\n",
       "    <tr>\n",
       "      <th>14493</th>\n",
       "      <td>250</td>\n",
       "      <td>7</td>\n",
       "      <td>251</td>\n",
       "      <td>PHI</td>\n",
       "      <td>Joe Walker</td>\n",
       "      <td>ILB</td>\n",
       "      <td>23.0</td>\n",
       "      <td>NaN</td>\n",
       "      <td>0</td>\n",
       "      <td>0</td>\n",
       "      <td>...</td>\n",
       "      <td>NaN</td>\n",
       "      <td>NaN</td>\n",
       "      <td>NaN</td>\n",
       "      <td>NaN</td>\n",
       "      <td>NaN</td>\n",
       "      <td>NaN</td>\n",
       "      <td>NaN</td>\n",
       "      <td>NaN</td>\n",
       "      <td>Oregon</td>\n",
       "      <td>2016</td>\n",
       "    </tr>\n",
       "    <tr>\n",
       "      <th>14494</th>\n",
       "      <td>251</td>\n",
       "      <td>7</td>\n",
       "      <td>252</td>\n",
       "      <td>CAR</td>\n",
       "      <td>Beau Sandland</td>\n",
       "      <td>TE</td>\n",
       "      <td>23.0</td>\n",
       "      <td>NaN</td>\n",
       "      <td>0</td>\n",
       "      <td>0</td>\n",
       "      <td>...</td>\n",
       "      <td>NaN</td>\n",
       "      <td>NaN</td>\n",
       "      <td>NaN</td>\n",
       "      <td>NaN</td>\n",
       "      <td>NaN</td>\n",
       "      <td>NaN</td>\n",
       "      <td>NaN</td>\n",
       "      <td>NaN</td>\n",
       "      <td>Montana St.</td>\n",
       "      <td>2016</td>\n",
       "    </tr>\n",
       "    <tr>\n",
       "      <th>14495</th>\n",
       "      <td>252</td>\n",
       "      <td>7</td>\n",
       "      <td>253</td>\n",
       "      <td>TEN</td>\n",
       "      <td>Kalan Reed</td>\n",
       "      <td>CB</td>\n",
       "      <td>22.0</td>\n",
       "      <td>2016.0</td>\n",
       "      <td>0</td>\n",
       "      <td>0</td>\n",
       "      <td>...</td>\n",
       "      <td>NaN</td>\n",
       "      <td>NaN</td>\n",
       "      <td>NaN</td>\n",
       "      <td>NaN</td>\n",
       "      <td>NaN</td>\n",
       "      <td>1.0</td>\n",
       "      <td>NaN</td>\n",
       "      <td>NaN</td>\n",
       "      <td>Southern Miss</td>\n",
       "      <td>2016</td>\n",
       "    </tr>\n",
       "  </tbody>\n",
       "</table>\n",
       "<p>14496 rows × 30 columns</p>\n",
       "</div>"
      ],
      "text/plain": [
       "       Unnamed: 0  Rnd  Pick   Tm                 Player  Pos   Age      To  \\\n",
       "0               0    1     1  PIT         Terry Bradshaw   QB  22.0  1983.0   \n",
       "1               1    1     2  GNB             Mike McCoy   DT  22.0  1980.0   \n",
       "2               2    1     3  CLE            Mike Phipps   QB  22.0  1981.0   \n",
       "3               3    1     4  BOS             Phil Olsen   DT  22.0  1976.0   \n",
       "4               4    1     5  BUF            Al Cowlings   DE  23.0  1979.0   \n",
       "...           ...  ...   ...  ...                    ...  ...   ...     ...   \n",
       "14491         248    7   249  SFO  Prince Charles Iworah   CB  23.0  2016.0   \n",
       "14492         249    7   250  CLE          Scooby Wright  ILB  22.0  2016.0   \n",
       "14493         250    7   251  PHI             Joe Walker  ILB  23.0     NaN   \n",
       "14494         251    7   252  CAR          Beau Sandland   TE  23.0     NaN   \n",
       "14495         252    7   253  TEN             Kalan Reed   CB  22.0  2016.0   \n",
       "\n",
       "       AP1  PB  ...   Yds.1  TD.1  Rec  Yds.2  TD.2  Tkl  Int.1  Sk  \\\n",
       "0        1   3  ...  2257.0  32.0  0.0    1.0   0.0  NaN    NaN NaN   \n",
       "1        0   0  ...     NaN   NaN  NaN    NaN   NaN  NaN    1.0 NaN   \n",
       "2        0   0  ...  1278.0  13.0  NaN    NaN   NaN  NaN    NaN NaN   \n",
       "3        0   0  ...     NaN   NaN  NaN    NaN   NaN  NaN    NaN NaN   \n",
       "4        0   0  ...     NaN   NaN  NaN    NaN   NaN  NaN    NaN NaN   \n",
       "...    ...  ..  ...     ...   ...  ...    ...   ...  ...    ...  ..   \n",
       "14491    0   0  ...     NaN   NaN  NaN    NaN   NaN  NaN    NaN NaN   \n",
       "14492    0   0  ...     NaN   NaN  NaN    NaN   NaN  NaN    NaN NaN   \n",
       "14493    0   0  ...     NaN   NaN  NaN    NaN   NaN  NaN    NaN NaN   \n",
       "14494    0   0  ...     NaN   NaN  NaN    NaN   NaN  NaN    NaN NaN   \n",
       "14495    0   0  ...     NaN   NaN  NaN    NaN   NaN  1.0    NaN NaN   \n",
       "\n",
       "         College/Univ  Year  \n",
       "0      Louisiana Tech  1970  \n",
       "1          Notre Dame  1970  \n",
       "2              Purdue  1970  \n",
       "3            Utah St.  1970  \n",
       "4                 USC  1970  \n",
       "...               ...   ...  \n",
       "14491  West. Kentucky  2016  \n",
       "14492         Arizona  2016  \n",
       "14493          Oregon  2016  \n",
       "14494     Montana St.  2016  \n",
       "14495   Southern Miss  2016  \n",
       "\n",
       "[14496 rows x 30 columns]"
      ]
     },
     "execution_count": 4,
     "metadata": {},
     "output_type": "execute_result"
    }
   ],
   "source": [
    "nfl = pd.read_csv(\"NFL_Draft_History.csv\")\n",
    "nfl"
   ]
  },
  {
   "cell_type": "code",
   "execution_count": 5,
   "id": "8d959c80",
   "metadata": {},
   "outputs": [
    {
     "data": {
      "text/plain": [
       "Index(['Unnamed: 0', 'Rnd', 'Pick', 'Tm', 'Player', 'Pos', 'Age', 'To', 'AP1',\n",
       "       'PB', 'St', 'CarAV', 'DrAV', 'G', 'Cmp', 'Att', 'Yds', 'TD', 'Int',\n",
       "       'Att.1', 'Yds.1', 'TD.1', 'Rec', 'Yds.2', 'TD.2', 'Tkl', 'Int.1', 'Sk',\n",
       "       'College/Univ', 'Year'],\n",
       "      dtype='object')"
      ]
     },
     "execution_count": 5,
     "metadata": {},
     "output_type": "execute_result"
    }
   ],
   "source": [
    "nfl.columns"
   ]
  },
  {
   "cell_type": "code",
   "execution_count": 6,
   "id": "0073f601",
   "metadata": {},
   "outputs": [
    {
     "data": {
      "text/html": [
       "<div>\n",
       "<style scoped>\n",
       "    .dataframe tbody tr th:only-of-type {\n",
       "        vertical-align: middle;\n",
       "    }\n",
       "\n",
       "    .dataframe tbody tr th {\n",
       "        vertical-align: top;\n",
       "    }\n",
       "\n",
       "    .dataframe thead th {\n",
       "        text-align: right;\n",
       "    }\n",
       "</style>\n",
       "<table border=\"1\" class=\"dataframe\">\n",
       "  <thead>\n",
       "    <tr style=\"text-align: right;\">\n",
       "      <th></th>\n",
       "      <th>Age</th>\n",
       "      <th>Year</th>\n",
       "    </tr>\n",
       "  </thead>\n",
       "  <tbody>\n",
       "    <tr>\n",
       "      <th>0</th>\n",
       "      <td>22.0</td>\n",
       "      <td>1970</td>\n",
       "    </tr>\n",
       "    <tr>\n",
       "      <th>1</th>\n",
       "      <td>22.0</td>\n",
       "      <td>1970</td>\n",
       "    </tr>\n",
       "    <tr>\n",
       "      <th>2</th>\n",
       "      <td>22.0</td>\n",
       "      <td>1970</td>\n",
       "    </tr>\n",
       "    <tr>\n",
       "      <th>3</th>\n",
       "      <td>22.0</td>\n",
       "      <td>1970</td>\n",
       "    </tr>\n",
       "    <tr>\n",
       "      <th>4</th>\n",
       "      <td>23.0</td>\n",
       "      <td>1970</td>\n",
       "    </tr>\n",
       "    <tr>\n",
       "      <th>...</th>\n",
       "      <td>...</td>\n",
       "      <td>...</td>\n",
       "    </tr>\n",
       "    <tr>\n",
       "      <th>14491</th>\n",
       "      <td>23.0</td>\n",
       "      <td>2016</td>\n",
       "    </tr>\n",
       "    <tr>\n",
       "      <th>14492</th>\n",
       "      <td>22.0</td>\n",
       "      <td>2016</td>\n",
       "    </tr>\n",
       "    <tr>\n",
       "      <th>14493</th>\n",
       "      <td>23.0</td>\n",
       "      <td>2016</td>\n",
       "    </tr>\n",
       "    <tr>\n",
       "      <th>14494</th>\n",
       "      <td>23.0</td>\n",
       "      <td>2016</td>\n",
       "    </tr>\n",
       "    <tr>\n",
       "      <th>14495</th>\n",
       "      <td>22.0</td>\n",
       "      <td>2016</td>\n",
       "    </tr>\n",
       "  </tbody>\n",
       "</table>\n",
       "<p>14496 rows × 2 columns</p>\n",
       "</div>"
      ],
      "text/plain": [
       "        Age  Year\n",
       "0      22.0  1970\n",
       "1      22.0  1970\n",
       "2      22.0  1970\n",
       "3      22.0  1970\n",
       "4      23.0  1970\n",
       "...     ...   ...\n",
       "14491  23.0  2016\n",
       "14492  22.0  2016\n",
       "14493  23.0  2016\n",
       "14494  23.0  2016\n",
       "14495  22.0  2016\n",
       "\n",
       "[14496 rows x 2 columns]"
      ]
     },
     "execution_count": 6,
     "metadata": {},
     "output_type": "execute_result"
    }
   ],
   "source": [
    "nfl = nfl.drop(['Unnamed: 0', 'Rnd', 'Pick', 'Tm', 'Player', 'Pos', 'To', 'AP1',\n",
    "       'PB', 'St', 'CarAV', 'DrAV', 'G', 'Cmp', 'Att', 'Yds', 'TD', 'Int',\n",
    "       'Att.1', 'Yds.1', 'TD.1', 'Rec', 'Yds.2', 'TD.2', 'Tkl', 'Int.1', 'Sk',\n",
    "       'College/Univ'], axis=1)\n",
    "nfl"
   ]
  },
  {
   "cell_type": "markdown",
   "id": "6ea9cdf1",
   "metadata": {},
   "source": [
    "#### Mean, Max, Min"
   ]
  },
  {
   "cell_type": "code",
   "execution_count": 8,
   "id": "68960f9d",
   "metadata": {},
   "outputs": [
    {
     "data": {
      "text/plain": [
       "22.54635823114084"
      ]
     },
     "execution_count": 8,
     "metadata": {},
     "output_type": "execute_result"
    }
   ],
   "source": [
    "age_num = nfl['Age'].mean()\n",
    "age_num"
   ]
  },
  {
   "cell_type": "code",
   "execution_count": 9,
   "id": "2de5382d",
   "metadata": {},
   "outputs": [
    {
     "data": {
      "text/plain": [
       "20.0"
      ]
     },
     "execution_count": 9,
     "metadata": {},
     "output_type": "execute_result"
    }
   ],
   "source": [
    "age_min = nfl['Age'].min()\n",
    "age_min"
   ]
  },
  {
   "cell_type": "code",
   "execution_count": 10,
   "id": "0fd3a97b",
   "metadata": {},
   "outputs": [
    {
     "data": {
      "text/plain": [
       "1970"
      ]
     },
     "execution_count": 10,
     "metadata": {},
     "output_type": "execute_result"
    }
   ],
   "source": [
    "year_min = nfl['Year'].min()\n",
    "year_min"
   ]
  },
  {
   "cell_type": "code",
   "execution_count": 11,
   "id": "5dbf3a0d",
   "metadata": {},
   "outputs": [
    {
     "data": {
      "text/plain": [
       "29.0"
      ]
     },
     "execution_count": 11,
     "metadata": {},
     "output_type": "execute_result"
    }
   ],
   "source": [
    "age_max = nfl['Age'].max()\n",
    "age_max"
   ]
  },
  {
   "cell_type": "code",
   "execution_count": 13,
   "id": "06cef539",
   "metadata": {},
   "outputs": [
    {
     "data": {
      "text/plain": [
       "2016"
      ]
     },
     "execution_count": 13,
     "metadata": {},
     "output_type": "execute_result"
    }
   ],
   "source": [
    "year_max = nfl['Year'].max()\n",
    "year_max"
   ]
  },
  {
   "cell_type": "markdown",
   "id": "0bb6d697",
   "metadata": {},
   "source": [
    "#### Range"
   ]
  },
  {
   "cell_type": "code",
   "execution_count": 14,
   "id": "1d1bc454",
   "metadata": {},
   "outputs": [
    {
     "data": {
      "text/plain": [
       "9.0"
      ]
     },
     "execution_count": 14,
     "metadata": {},
     "output_type": "execute_result"
    }
   ],
   "source": [
    "age_range = age_max - age_min\n",
    "age_range"
   ]
  },
  {
   "cell_type": "code",
   "execution_count": 15,
   "id": "c2c15b9c",
   "metadata": {},
   "outputs": [
    {
     "data": {
      "text/plain": [
       "46"
      ]
     },
     "execution_count": 15,
     "metadata": {},
     "output_type": "execute_result"
    }
   ],
   "source": [
    "year_range = year_max - year_min\n",
    "year_range"
   ]
  },
  {
   "cell_type": "markdown",
   "id": "bfe721cb",
   "metadata": {},
   "source": [
    "#### Mean"
   ]
  },
  {
   "cell_type": "code",
   "execution_count": 16,
   "id": "9d4d354b",
   "metadata": {},
   "outputs": [
    {
     "data": {
      "text/plain": [
       "22.54635823114084"
      ]
     },
     "execution_count": 16,
     "metadata": {},
     "output_type": "execute_result"
    }
   ],
   "source": [
    "age_mean = nfl['Age'].mean()\n",
    "age_mean"
   ]
  },
  {
   "cell_type": "code",
   "execution_count": 17,
   "id": "b2f9529b",
   "metadata": {},
   "outputs": [
    {
     "data": {
      "text/plain": [
       "1990.3854856512141"
      ]
     },
     "execution_count": 17,
     "metadata": {},
     "output_type": "execute_result"
    }
   ],
   "source": [
    "year_mean = nfl['Year'].mean()\n",
    "year_mean"
   ]
  },
  {
   "cell_type": "markdown",
   "id": "af6f9365",
   "metadata": {},
   "source": [
    "#### Median"
   ]
  },
  {
   "cell_type": "code",
   "execution_count": 18,
   "id": "8fe40a16",
   "metadata": {},
   "outputs": [
    {
     "data": {
      "text/plain": [
       "23.0"
      ]
     },
     "execution_count": 18,
     "metadata": {},
     "output_type": "execute_result"
    }
   ],
   "source": [
    "age_median = nfl['Age'].median()\n",
    "age_median"
   ]
  },
  {
   "cell_type": "code",
   "execution_count": 19,
   "id": "7853d4db",
   "metadata": {},
   "outputs": [
    {
     "data": {
      "text/plain": [
       "1989.0"
      ]
     },
     "execution_count": 19,
     "metadata": {},
     "output_type": "execute_result"
    }
   ],
   "source": [
    "year_median = nfl['Year'].median()\n",
    "year_median"
   ]
  },
  {
   "cell_type": "code",
   "execution_count": 20,
   "id": "5d5d164f",
   "metadata": {},
   "outputs": [
    {
     "data": {
      "text/plain": [
       "<matplotlib.legend.Legend at 0x230378d69b0>"
      ]
     },
     "execution_count": 20,
     "metadata": {},
     "output_type": "execute_result"
    },
    {
     "data": {
      "image/png": "[encoded data removed]",
      "text/plain": [
       "<Figure size 864x576 with 1 Axes>"
      ]
     },
     "metadata": {
      "needs_background": "light"
     },
     "output_type": "display_data"
    }
   ],
   "source": [
    "plt.figure(figsize=(12,8))\n",
    "nfl['Age'].hist(bins=30)\n",
    "plt.axvline(age_mean, color='r', label='mean')\n",
    "plt.legend()"
   ]
  },
  {
   "cell_type": "code",
   "execution_count": 21,
   "id": "152a3de7",
   "metadata": {},
   "outputs": [
    {
     "data": {
      "text/plain": [
       "<matplotlib.legend.Legend at 0x230379e6e90>"
      ]
     },
     "execution_count": 21,
     "metadata": {},
     "output_type": "execute_result"
    },
    {
     "data": {
      "image/png": "[encoded data removed]",
      "text/plain": [
       "<Figure size 864x576 with 1 Axes>"
      ]
     },
     "metadata": {
      "needs_background": "light"
     },
     "output_type": "display_data"
    }
   ],
   "source": [
    "plt.figure(figsize=(12,8))\n",
    "nfl['Age'].hist(bins=30)\n",
    "plt.axvline(age_median, color='g', label='median')\n",
    "plt.legend()"
   ]
  },
  {
   "cell_type": "code",
   "execution_count": 22,
   "id": "d7db4a11",
   "metadata": {},
   "outputs": [
    {
     "data": {
      "image/png": "[encoded data removed]",
      "text/plain": [
       "<Figure size 864x576 with 1 Axes>"
      ]
     },
     "metadata": {
      "needs_background": "light"
     },
     "output_type": "display_data"
    }
   ],
   "source": [
    "plt.figure(figsize=(12,8))\n",
    "plt.bar(nfl['Age'], nfl['Year'])\n",
    "\n",
    "plt.axhline(year_mean, color='r', label='mean')\n",
    "plt.axhline(year_median, color='b', label='median')\n",
    "\n",
    "plt.show()"
   ]
  },
  {
   "cell_type": "markdown",
   "id": "108820c3",
   "metadata": {},
   "source": [
    "#### Interquartile Range"
   ]
  },
  {
   "cell_type": "code",
   "execution_count": 23,
   "id": "c8bb5b4f",
   "metadata": {},
   "outputs": [
    {
     "data": {
      "text/plain": [
       "22.0"
      ]
     },
     "execution_count": 23,
     "metadata": {},
     "output_type": "execute_result"
    }
   ],
   "source": [
    "q1_age = nfl['Age'].quantile(.25)\n",
    "q1_age"
   ]
  },
  {
   "cell_type": "code",
   "execution_count": 24,
   "id": "71ff2dd1",
   "metadata": {},
   "outputs": [
    {
     "data": {
      "text/plain": [
       "23.0"
      ]
     },
     "execution_count": 24,
     "metadata": {},
     "output_type": "execute_result"
    }
   ],
   "source": [
    "q3_age = nfl['Age'].quantile(.75)\n",
    "q3_age"
   ]
  },
  {
   "cell_type": "code",
   "execution_count": 25,
   "id": "ae81c316",
   "metadata": {},
   "outputs": [
    {
     "data": {
      "text/plain": [
       "22.0"
      ]
     },
     "execution_count": 25,
     "metadata": {},
     "output_type": "execute_result"
    }
   ],
   "source": [
    "iqr_age = q3_age = q1_age\n",
    "iqr_age"
   ]
  },
  {
   "cell_type": "code",
   "execution_count": 26,
   "id": "e96595d4",
   "metadata": {},
   "outputs": [
    {
     "data": {
      "text/plain": [
       "<matplotlib.legend.Legend at 0x2304517a350>"
      ]
     },
     "execution_count": 26,
     "metadata": {},
     "output_type": "execute_result"
    },
    {
     "data": {
      "image/png": "[encoded data removed]",
      "text/plain": [
       "<Figure size 864x576 with 1 Axes>"
      ]
     },
     "metadata": {
      "needs_background": "light"
     },
     "output_type": "display_data"
    }
   ],
   "source": [
    "plt.figure(figsize=(12,8))\n",
    "\n",
    "nfl['Age'].hist(bins=30)\n",
    "plt.axvline(q1_age, color='r', label='Q1')\n",
    "plt.axvline(q3_age, color='g', label='Q2')\n",
    "plt.legend()"
   ]
  },
  {
   "cell_type": "markdown",
   "id": "d379f758",
   "metadata": {},
   "source": [
    "#### Calculating Variance"
   ]
  },
  {
   "cell_type": "code",
   "execution_count": 27,
   "id": "76ec7011",
   "metadata": {},
   "outputs": [
    {
     "data": {
      "text/plain": [
       "0.7040664538382162"
      ]
     },
     "execution_count": 27,
     "metadata": {},
     "output_type": "execute_result"
    }
   ],
   "source": [
    "nfl['Age'].var()"
   ]
  },
  {
   "cell_type": "code",
   "execution_count": 28,
   "id": "c2985d53",
   "metadata": {},
   "outputs": [
    {
     "data": {
      "text/plain": [
       "190.64283588692757"
      ]
     },
     "execution_count": 28,
     "metadata": {},
     "output_type": "execute_result"
    }
   ],
   "source": [
    "nfl['Year'].var()"
   ]
  },
  {
   "cell_type": "markdown",
   "id": "96fb3376",
   "metadata": {},
   "source": [
    "#### Standard Deviation"
   ]
  },
  {
   "cell_type": "code",
   "execution_count": 29,
   "id": "735bcae9",
   "metadata": {},
   "outputs": [
    {
     "data": {
      "text/plain": [
       "0.8390866783820466"
      ]
     },
     "execution_count": 29,
     "metadata": {},
     "output_type": "execute_result"
    }
   ],
   "source": [
    "nfl['Age'].std()"
   ]
  },
  {
   "cell_type": "code",
   "execution_count": 30,
   "id": "e404928a",
   "metadata": {},
   "outputs": [
    {
     "data": {
      "text/plain": [
       "13.807347170507722"
      ]
     },
     "execution_count": 30,
     "metadata": {},
     "output_type": "execute_result"
    }
   ],
   "source": [
    "nfl['Year'].std()"
   ]
  },
  {
   "cell_type": "code",
   "execution_count": 31,
   "id": "616d4ce1",
   "metadata": {},
   "outputs": [
    {
     "data": {
      "text/html": [
       "<div>\n",
       "<style scoped>\n",
       "    .dataframe tbody tr th:only-of-type {\n",
       "        vertical-align: middle;\n",
       "    }\n",
       "\n",
       "    .dataframe tbody tr th {\n",
       "        vertical-align: top;\n",
       "    }\n",
       "\n",
       "    .dataframe thead th {\n",
       "        text-align: right;\n",
       "    }\n",
       "</style>\n",
       "<table border=\"1\" class=\"dataframe\">\n",
       "  <thead>\n",
       "    <tr style=\"text-align: right;\">\n",
       "      <th></th>\n",
       "      <th>Age</th>\n",
       "      <th>Year</th>\n",
       "    </tr>\n",
       "  </thead>\n",
       "  <tbody>\n",
       "    <tr>\n",
       "      <th>count</th>\n",
       "      <td>10764.000000</td>\n",
       "      <td>14496.000000</td>\n",
       "    </tr>\n",
       "    <tr>\n",
       "      <th>mean</th>\n",
       "      <td>22.546358</td>\n",
       "      <td>1990.385486</td>\n",
       "    </tr>\n",
       "    <tr>\n",
       "      <th>std</th>\n",
       "      <td>0.839087</td>\n",
       "      <td>13.807347</td>\n",
       "    </tr>\n",
       "    <tr>\n",
       "      <th>min</th>\n",
       "      <td>20.000000</td>\n",
       "      <td>1970.000000</td>\n",
       "    </tr>\n",
       "    <tr>\n",
       "      <th>25%</th>\n",
       "      <td>22.000000</td>\n",
       "      <td>1978.000000</td>\n",
       "    </tr>\n",
       "    <tr>\n",
       "      <th>50%</th>\n",
       "      <td>23.000000</td>\n",
       "      <td>1989.000000</td>\n",
       "    </tr>\n",
       "    <tr>\n",
       "      <th>75%</th>\n",
       "      <td>23.000000</td>\n",
       "      <td>2002.000000</td>\n",
       "    </tr>\n",
       "    <tr>\n",
       "      <th>max</th>\n",
       "      <td>29.000000</td>\n",
       "      <td>2016.000000</td>\n",
       "    </tr>\n",
       "  </tbody>\n",
       "</table>\n",
       "</div>"
      ],
      "text/plain": [
       "                Age          Year\n",
       "count  10764.000000  14496.000000\n",
       "mean      22.546358   1990.385486\n",
       "std        0.839087     13.807347\n",
       "min       20.000000   1970.000000\n",
       "25%       22.000000   1978.000000\n",
       "50%       23.000000   1989.000000\n",
       "75%       23.000000   2002.000000\n",
       "max       29.000000   2016.000000"
      ]
     },
     "execution_count": 31,
     "metadata": {},
     "output_type": "execute_result"
    }
   ],
   "source": [
    "nfl.describe()"
   ]
  },
  {
   "cell_type": "markdown",
   "id": "18a91e8a",
   "metadata": {},
   "source": [
    "#### Univariate Analysis"
   ]
  },
  {
   "cell_type": "code",
   "execution_count": 32,
   "id": "eac1e7cd",
   "metadata": {},
   "outputs": [
    {
     "name": "stderr",
     "output_type": "stream",
     "text": [
      "C:\\Users\\molly\\Desktop\\devMountain\\specializations\\week-11\\stats-report\\env\\lib\\site-packages\\seaborn\\_decorators.py:36: FutureWarning: Pass the following variable as a keyword arg: x. From version 0.12, the only valid positional argument will be `data`, and passing other arguments without an explicit keyword will result in an error or misinterpretation.\n",
      "  warnings.warn(\n"
     ]
    },
    {
     "data": {
      "image/png": "[encoded data removed]",
      "text/plain": [
       "<Figure size 432x288 with 1 Axes>"
      ]
     },
     "metadata": {
      "needs_background": "light"
     },
     "output_type": "display_data"
    }
   ],
   "source": [
    "sns.countplot(nfl['Age'])\n",
    "plt.show()"
   ]
  },
  {
   "cell_type": "code",
   "execution_count": 33,
   "id": "3dd82a9f",
   "metadata": {},
   "outputs": [
    {
     "name": "stderr",
     "output_type": "stream",
     "text": [
      "C:\\Users\\molly\\Desktop\\devMountain\\specializations\\week-11\\stats-report\\env\\lib\\site-packages\\seaborn\\_decorators.py:36: FutureWarning: Pass the following variable as a keyword arg: x. From version 0.12, the only valid positional argument will be `data`, and passing other arguments without an explicit keyword will result in an error or misinterpretation.\n",
      "  warnings.warn(\n"
     ]
    },
    {
     "data": {
      "image/png": "[encoded data removed]",
      "text/plain": [
       "<Figure size 432x288 with 1 Axes>"
      ]
     },
     "metadata": {
      "needs_background": "light"
     },
     "output_type": "display_data"
    }
   ],
   "source": [
    "sns.countplot(nfl['Year'])\n",
    "plt.show()"
   ]
  },
  {
   "cell_type": "markdown",
   "id": "e4f9af9e",
   "metadata": {},
   "source": [
    "#### Considering only Age"
   ]
  },
  {
   "cell_type": "code",
   "execution_count": 34,
   "id": "e8f1cabd",
   "metadata": {},
   "outputs": [],
   "source": [
    "age = nfl['Age']"
   ]
  },
  {
   "cell_type": "markdown",
   "id": "7846b524",
   "metadata": {},
   "source": [
    "#### Histogram-plot"
   ]
  },
  {
   "cell_type": "code",
   "execution_count": 35,
   "id": "415ac188",
   "metadata": {},
   "outputs": [
    {
     "data": {
      "text/plain": [
       "<AxesSubplot:title={'center':'Age Histogram'}, ylabel='Frequency'>"
      ]
     },
     "execution_count": 35,
     "metadata": {},
     "output_type": "execute_result"
    },
    {
     "data": {
      "image/png": "[encoded data removed]",
      "text/plain": [
       "<Figure size 864x576 with 1 Axes>"
      ]
     },
     "metadata": {
      "needs_background": "light"
     },
     "output_type": "display_data"
    }
   ],
   "source": [
    "plt.figure(figsize=(12,8))\n",
    "age.plot(kind='hist',\n",
    "        title='Age Histogram')"
   ]
  },
  {
   "cell_type": "markdown",
   "id": "97340f34",
   "metadata": {},
   "source": [
    "#### Box-plot"
   ]
  },
  {
   "cell_type": "code",
   "execution_count": 36,
   "id": "f6e56270",
   "metadata": {},
   "outputs": [
    {
     "data": {
      "text/plain": [
       "<AxesSubplot:title={'center':'Age Box-plot'}>"
      ]
     },
     "execution_count": 36,
     "metadata": {},
     "output_type": "execute_result"
    },
    {
     "data": {
      "image/png": "[encoded data removed]",
      "text/plain": [
       "<Figure size 864x576 with 1 Axes>"
      ]
     },
     "metadata": {
      "needs_background": "light"
     },
     "output_type": "display_data"
    }
   ],
   "source": [
    "plt.figure(figsize=(12,8))\n",
    "age.plot(kind='box',\n",
    "        title='Age Box-plot')"
   ]
  },
  {
   "cell_type": "markdown",
   "id": "6dbad2a1",
   "metadata": {},
   "source": [
    "#### KDE distribution for Age"
   ]
  },
  {
   "cell_type": "code",
   "execution_count": 37,
   "id": "96a77cc7",
   "metadata": {},
   "outputs": [
    {
     "data": {
      "text/plain": [
       "<AxesSubplot:title={'center':'Age KDE'}, ylabel='Density'>"
      ]
     },
     "execution_count": 37,
     "metadata": {},
     "output_type": "execute_result"
    },
    {
     "data": {
      "image/png": "[encoded data removed]",
      "text/plain": [
       "<Figure size 864x576 with 1 Axes>"
      ]
     },
     "metadata": {
      "needs_background": "light"
     },
     "output_type": "display_data"
    }
   ],
   "source": [
    "age.plot(kind='kde',\n",
    "        title='Age KDE', figsize=(12,8))"
   ]
  },
  {
   "cell_type": "markdown",
   "id": "5412c635",
   "metadata": {},
   "source": [
    "#### Skewness and Kurtosis"
   ]
  },
  {
   "cell_type": "code",
   "execution_count": 38,
   "id": "25403f0a",
   "metadata": {},
   "outputs": [
    {
     "data": {
      "text/plain": [
       "0.632781878249283"
      ]
     },
     "execution_count": 38,
     "metadata": {},
     "output_type": "execute_result"
    }
   ],
   "source": [
    "nfl['Age'].skew()"
   ]
  },
  {
   "cell_type": "code",
   "execution_count": 39,
   "id": "e3ce5731",
   "metadata": {},
   "outputs": [
    {
     "data": {
      "text/plain": [
       "-1.1797074347030039"
      ]
     },
     "execution_count": 39,
     "metadata": {},
     "output_type": "execute_result"
    }
   ],
   "source": [
    "nfl['Year'].kurtosis()"
   ]
  },
  {
   "cell_type": "code",
   "execution_count": 40,
   "id": "6d05c3f9",
   "metadata": {},
   "outputs": [
    {
     "data": {
      "image/png": "[encoded data removed]",
      "text/plain": [
       "<Figure size 864x576 with 2 Axes>"
      ]
     },
     "metadata": {
      "needs_background": "light"
     },
     "output_type": "display_data"
    }
   ],
   "source": [
    "nfl.plot.hexbin(x='Age', y='Year', gridsize=20, figsize=(12,8))\n",
    "plt.show()"
   ]
  },
  {
   "cell_type": "markdown",
   "id": "073f284d",
   "metadata": {},
   "source": [
    "#### Covariance"
   ]
  },
  {
   "cell_type": "code",
   "execution_count": 42,
   "id": "67eb308a",
   "metadata": {},
   "outputs": [
    {
     "data": {
      "text/html": [
       "<div>\n",
       "<style scoped>\n",
       "    .dataframe tbody tr th:only-of-type {\n",
       "        vertical-align: middle;\n",
       "    }\n",
       "\n",
       "    .dataframe tbody tr th {\n",
       "        vertical-align: top;\n",
       "    }\n",
       "\n",
       "    .dataframe thead th {\n",
       "        text-align: right;\n",
       "    }\n",
       "</style>\n",
       "<table border=\"1\" class=\"dataframe\">\n",
       "  <thead>\n",
       "    <tr style=\"text-align: right;\">\n",
       "      <th></th>\n",
       "      <th>Age</th>\n",
       "      <th>Year</th>\n",
       "    </tr>\n",
       "  </thead>\n",
       "  <tbody>\n",
       "    <tr>\n",
       "      <th>Age</th>\n",
       "      <td>0.704066</td>\n",
       "      <td>1.351919</td>\n",
       "    </tr>\n",
       "    <tr>\n",
       "      <th>Year</th>\n",
       "      <td>1.351919</td>\n",
       "      <td>190.642836</td>\n",
       "    </tr>\n",
       "  </tbody>\n",
       "</table>\n",
       "</div>"
      ],
      "text/plain": [
       "           Age        Year\n",
       "Age   0.704066    1.351919\n",
       "Year  1.351919  190.642836"
      ]
     },
     "execution_count": 42,
     "metadata": {},
     "output_type": "execute_result"
    }
   ],
   "source": [
    "nfl_cov = nfl.cov()\n",
    "nfl_cov"
   ]
  },
  {
   "cell_type": "markdown",
   "id": "09a4aef2",
   "metadata": {},
   "source": [
    "#### Correlation"
   ]
  },
  {
   "cell_type": "code",
   "execution_count": 43,
   "id": "ef363ece",
   "metadata": {},
   "outputs": [
    {
     "data": {
      "text/html": [
       "<div>\n",
       "<style scoped>\n",
       "    .dataframe tbody tr th:only-of-type {\n",
       "        vertical-align: middle;\n",
       "    }\n",
       "\n",
       "    .dataframe tbody tr th {\n",
       "        vertical-align: top;\n",
       "    }\n",
       "\n",
       "    .dataframe thead th {\n",
       "        text-align: right;\n",
       "    }\n",
       "</style>\n",
       "<table border=\"1\" class=\"dataframe\">\n",
       "  <thead>\n",
       "    <tr style=\"text-align: right;\">\n",
       "      <th></th>\n",
       "      <th>Age</th>\n",
       "      <th>Year</th>\n",
       "    </tr>\n",
       "  </thead>\n",
       "  <tbody>\n",
       "    <tr>\n",
       "      <th>Age</th>\n",
       "      <td>1.000000</td>\n",
       "      <td>0.118217</td>\n",
       "    </tr>\n",
       "    <tr>\n",
       "      <th>Year</th>\n",
       "      <td>0.118217</td>\n",
       "      <td>1.000000</td>\n",
       "    </tr>\n",
       "  </tbody>\n",
       "</table>\n",
       "</div>"
      ],
      "text/plain": [
       "           Age      Year\n",
       "Age   1.000000  0.118217\n",
       "Year  0.118217  1.000000"
      ]
     },
     "execution_count": 43,
     "metadata": {},
     "output_type": "execute_result"
    }
   ],
   "source": [
    "nfl_corr = nfl.corr()\n",
    "nfl_corr"
   ]
  },
  {
   "cell_type": "code",
   "execution_count": 44,
   "id": "f0d53555",
   "metadata": {},
   "outputs": [
    {
     "data": {
      "text/plain": [
       "<AxesSubplot:>"
      ]
     },
     "execution_count": 44,
     "metadata": {},
     "output_type": "execute_result"
    },
    {
     "data": {
      "image/png": "[encoded data removed]",
      "text/plain": [
       "<Figure size 864x576 with 2 Axes>"
      ]
     },
     "metadata": {
      "needs_background": "light"
     },
     "output_type": "display_data"
    }
   ],
   "source": [
    "plt.figure(figsize=(12,8))\n",
    "sns.heatmap(nfl_corr, annot=True)"
   ]
  },
  {
   "cell_type": "markdown",
   "id": "004add4a",
   "metadata": {},
   "source": [
    "#### Skewness and Kurtosis with scipy"
   ]
  },
  {
   "cell_type": "code",
   "execution_count": 45,
   "id": "08e8d27d",
   "metadata": {},
   "outputs": [
    {
     "data": {
      "text/plain": [
       "nan"
      ]
     },
     "execution_count": 45,
     "metadata": {},
     "output_type": "execute_result"
    }
   ],
   "source": [
    "stats.skew(nfl['Age'])"
   ]
  },
  {
   "cell_type": "code",
   "execution_count": 46,
   "id": "49fc804e",
   "metadata": {},
   "outputs": [
    {
     "data": {
      "text/plain": [
       "nan"
      ]
     },
     "execution_count": 46,
     "metadata": {},
     "output_type": "execute_result"
    }
   ],
   "source": [
    "stats.kurtosis(nfl['Age'])"
   ]
  },
  {
   "cell_type": "code",
   "execution_count": 47,
   "id": "0aa70588",
   "metadata": {},
   "outputs": [
    {
     "data": {
      "text/plain": [
       "0.24741464114317485"
      ]
     },
     "execution_count": 47,
     "metadata": {},
     "output_type": "execute_result"
    }
   ],
   "source": [
    "stats.skew(nfl['Year'])"
   ]
  },
  {
   "cell_type": "code",
   "execution_count": 49,
   "id": "628d3efb",
   "metadata": {},
   "outputs": [
    {
     "data": {
      "text/plain": [
       "-1.1797144448155017"
      ]
     },
     "execution_count": 49,
     "metadata": {},
     "output_type": "execute_result"
    }
   ],
   "source": [
    "stats.kurtosis(nfl['Year'])"
   ]
  },
  {
   "cell_type": "markdown",
   "id": "b1893f38",
   "metadata": {},
   "source": [
    "# Questions:"
   ]
  },
  {
   "cell_type": "markdown",
   "id": "8d90f3e9",
   "metadata": {},
   "source": [
    "1. What is the median age of NFL football players?\n",
    "    23.0\n",
    "2. What are the year ranges of the NFL data set?\n",
    "    1970-2016"
   ]
  }
 ],
 "metadata": {
  "kernelspec": {
   "display_name": "Python 3 (ipykernel)",
   "language": "python",
   "name": "python3"
  },
  "language_info": {
   "codemirror_mode": {
    "name": "ipython",
    "version": 3
   },
   "file_extension": ".py",
   "mimetype": "text/x-python",
   "name": "python",
   "nbconvert_exporter": "python",
   "pygments_lexer": "ipython3",
   "version": "3.10.1"
  }
 },
 "nbformat": 4,
 "nbformat_minor": 5
}
